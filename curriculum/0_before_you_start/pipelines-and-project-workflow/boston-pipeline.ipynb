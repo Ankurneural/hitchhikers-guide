{
 "cells": [
  {
   "cell_type": "code",
   "execution_count": 11,
   "metadata": {
    "collapsed": false
   },
   "outputs": [],
   "source": [
    "## Preprocessing\n",
    "\n",
    "from sklearn.datasets import load_boston\n",
    "from sklearn.cross_validation import train_test_split\n",
    "\n",
    "boston = load_boston()\n",
    "X = boston[\"data\"]\n",
    "y = boston[\"target\"]\n",
    "X_train, X_test, y_train, y_test = train_test_split(X, y, test_size=0.33, random_state = 10)"
   ]
  },
  {
   "cell_type": "code",
   "execution_count": 14,
   "metadata": {
    "collapsed": false
   },
   "outputs": [
    {
     "name": "stdout",
     "output_type": "stream",
     "text": [
      "Ridge (alpha=0) score: 0.716200813273\n",
      "Ridge (alpha=1) score: 0.710616450413\n",
      "Ridge (alpha=2) score: 0.707471063154\n",
      "Ridge (alpha=3) score: 0.705446293532\n",
      "Random Forest (n_estimator=1) score: 0.742626096803\n",
      "Random Forest (n_estimator=5) score: 0.871925068523\n",
      "Random Forest (n_estimator=7) score: 0.854950164522\n",
      "Random Forest (n_estimator=10) score: 0.880892905818\n"
     ]
    }
   ],
   "source": [
    "## Models, Predictions, and Metrics\n",
    "\n",
    "from sklearn import linear_model\n",
    "from sklearn.ensemble import RandomForestRegressor\n",
    "\n",
    "def fit_and_score_model(model_type, hyperparameter, X_train, y_train, X_test, y_test):\n",
    "    if model_type == \"Ridge\":\n",
    "        ridge = linear_model.Ridge(alpha=hyperparameter)\n",
    "        ridge.fit(X_train, y_train)\n",
    "        return ridge.score(X_test, y_test)\n",
    "    if model_type == \"RandomForestRegressor\":\n",
    "        rf = RandomForestRegressor(n_estimators=hyperparameter)\n",
    "        rf.fit(X_train, y_train)\n",
    "        return rf.score(X_test, y_test)\n",
    "\n",
    "for alpha in range(4):\n",
    "    ridge_score = fit_and_score_model(\"Ridge\", alpha, X_train, y_train, X_test, y_test)\n",
    "    print(\"Ridge (alpha=\" + str(alpha) + \") score: \" + str(ridge_score))\n",
    "for n_estimator in [1,5,7,10]:\n",
    "    rf_score = fit_and_score_model(\"RandomForestRegressor\", n_estimator, X_train, y_train, X_test, y_test)\n",
    "    print(\"Random Forest (n_estimator=\" + str(n_estimator) + \") score: \" + str(rf_score))"
   ]
  },
  {
   "cell_type": "code",
   "execution_count": null,
   "metadata": {
    "collapsed": true
   },
   "outputs": [],
   "source": []
  },
  {
   "cell_type": "code",
   "execution_count": null,
   "metadata": {
    "collapsed": true
   },
   "outputs": [],
   "source": []
  }
 ],
 "metadata": {
  "kernelspec": {
   "display_name": "Python 3",
   "language": "python",
   "name": "python3"
  },
  "language_info": {
   "codemirror_mode": {
    "name": "ipython",
    "version": 3
   },
   "file_extension": ".py",
   "mimetype": "text/x-python",
   "name": "python",
   "nbconvert_exporter": "python",
   "pygments_lexer": "ipython3",
   "version": "3.4.3"
  }
 },
 "nbformat": 4,
 "nbformat_minor": 0
}

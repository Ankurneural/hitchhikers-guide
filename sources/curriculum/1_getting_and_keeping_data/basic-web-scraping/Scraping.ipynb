{
 "cells": [
  {
   "cell_type": "code",
   "execution_count": null,
   "metadata": {
    "collapsed": false,
    "slideshow": {
     "slide_type": "skip"
    }
   },
   "outputs": [],
   "source": [
    "# Display as slides with the Jupyter notebook RISE extension\n",
    "# https://github.com/damianavila/RISE\n",
    "from notebook.services.config import ConfigManager\n",
    "cm = ConfigManager()\n",
    "cm.update('livereveal', {\n",
    "              'theme': 'sans-serif',\n",
    "              'transition': 'default',\n",
    "              'start_slideshow_at': 'selected',\n",
    "})"
   ]
  },
  {
   "cell_type": "markdown",
   "metadata": {
    "collapsed": true,
    "slideshow": {
     "slide_type": "slide"
    }
   },
   "source": [
    "# Intro to Web Scraping\n",
    "\n",
    "\n",
    "&nbsp;\n",
    "\n",
    "### Matt Bauman\n",
    "#### July 6, 2016"
   ]
  },
  {
   "cell_type": "markdown",
   "metadata": {
    "slideshow": {
     "slide_type": "slide"
    }
   },
   "source": [
    "# What is HTML?\n",
    "\n",
    "* Human *and* machine-readable text\n",
    "* Supposed to be the semantic structure of a document"
   ]
  },
  {
   "cell_type": "markdown",
   "metadata": {
    "slideshow": {
     "slide_type": "fragment"
    }
   },
   "source": [
    "* Horribly abused\n",
    "* Often terribly malformed\n",
    "* Frequently unreadable by humans and just barely readable by machines"
   ]
  },
  {
   "cell_type": "markdown",
   "metadata": {
    "slideshow": {
     "slide_type": "fragment"
    }
   },
   "source": [
    "* It's a ~~miracle~~ ton of effort that makes browsers work at all"
   ]
  },
  {
   "cell_type": "markdown",
   "metadata": {
    "slideshow": {
     "slide_type": "slide"
    }
   },
   "source": [
    "# Okay, but *what is it*?\n",
    "\n",
    "* Plain-text markup that wraps content in **tags**\n",
    "* Tags are marked in brackets like `<body>`\n",
    "* And everything that follows is considered part of `body` until it's closed with a `</body>`."
   ]
  },
  {
   "cell_type": "markdown",
   "metadata": {
    "slideshow": {
     "slide_type": "fragment"
    }
   },
   "source": [
    "* Tags can be nested\n",
    "* Can be closed immediately without enclosing any content `<div />`.\n",
    "* Can have attributes to modify their behavior or name them"
   ]
  },
  {
   "cell_type": "code",
   "execution_count": null,
   "metadata": {
    "collapsed": false,
    "slideshow": {
     "slide_type": "-"
    }
   },
   "outputs": [],
   "source": [
    "from IPython.core.display import display, HTML\n",
    "display(HTML('<p style=\"color:red;\">Hello, world</h1>'))"
   ]
  },
  {
   "cell_type": "code",
   "execution_count": null,
   "metadata": {
    "collapsed": false,
    "slideshow": {
     "slide_type": "slide"
    }
   },
   "outputs": [],
   "source": [
    "import requests\n",
    "print requests.get('http://www.nytimes.com/').text"
   ]
  },
  {
   "cell_type": "markdown",
   "metadata": {
    "slideshow": {
     "slide_type": "slide"
    }
   },
   "source": [
    "# Important tags for scraping\n",
    "\n",
    "* `div` - major sections\n",
    "* `table` - broken down into `tr` (rows) and `td` (datum)\n",
    "* `form` - contains `input` tags that get submitted\n",
    "* `ul`/`ol` - lists (ordered and unordered), contains `li` (list items)"
   ]
  },
  {
   "cell_type": "markdown",
   "metadata": {
    "slideshow": {
     "slide_type": "slide"
    }
   },
   "source": [
    "# Important attributes for scraping\n",
    "\n",
    "* `id` and `class`\n",
    "* They *name* tags; web developers use these names for styling and interactivity\n",
    "* `id`s are unique; `class`es are groups"
   ]
  },
  {
   "cell_type": "markdown",
   "metadata": {
    "slideshow": {
     "slide_type": "slide"
    }
   },
   "source": [
    "# Why web scraping is terrible"
   ]
  },
  {
   "cell_type": "markdown",
   "metadata": {
    "slideshow": {
     "slide_type": "subslide"
    }
   },
   "source": [
    "### Invalid pages and incompatibilities\n",
    "\n",
    "* w3c (WWW Consortium) sets standards for HTML, CSS, XML, etc.\n",
    "* They have [a validator](https://validator.w3.org) to ensure that pages meet their specs"
   ]
  },
  {
   "cell_type": "markdown",
   "metadata": {
    "slideshow": {
     "slide_type": "subslide"
    }
   },
   "source": [
    "### HTML can be extremely hard to read\n",
    "\n",
    "* Fortunately, web inspector tools can make your life easier\n",
    "* Check out [The NY Times](http://www.nytimes.com/) in the browser"
   ]
  },
  {
   "cell_type": "markdown",
   "metadata": {
    "slideshow": {
     "slide_type": "subslide"
    }
   },
   "source": [
    "### Some sites require javascript to work\n",
    "\n",
    "* There aren't any libraries (that I'm aware of) that implement Javascript\n",
    "* Try turning off Javascript in your browser and make sure the site still works\n",
    "* You can often *emulate* the Javascript code to make the same requests... but it's a pain"
   ]
  },
  {
   "cell_type": "markdown",
   "metadata": {
    "slideshow": {
     "slide_type": "subslide"
    }
   },
   "source": [
    "### It's fragile \n",
    "\n",
    "* While the *markup* is machine readable, that just specifies page layout\n",
    "* The *same content* can be coded in HTML in an infinite number of ways and still look identical\n",
    "* Web authors can change their code at any point..."
   ]
  },
  {
   "cell_type": "markdown",
   "metadata": {
    "slideshow": {
     "slide_type": "fragment"
    }
   },
   "source": [
    "* **and still look very similar**. [An extreme example](https://web.archive.org/web/20001109144000/http://www1.nytimes.com/)"
   ]
  },
  {
   "cell_type": "markdown",
   "metadata": {
    "slideshow": {
     "slide_type": "slide"
    }
   },
   "source": [
    "# Working around the terrible-ness\n",
    "\n",
    "* Don't worry about parsing yourself -- no regexes or string searches!\n",
    "* Don't worry about traversing individual nested levels (e.g., inside two divs and ...)"
   ]
  },
  {
   "cell_type": "markdown",
   "metadata": {},
   "source": [
    "### Instead...\n",
    "\n",
    "* Think of each webpage as a \"tag soup\"\n",
    "* Try to find a way to describe the tags you're looking for in a minimal way\n",
    "* And use a good library"
   ]
  },
  {
   "cell_type": "markdown",
   "metadata": {
    "slideshow": {
     "slide_type": "slide"
    }
   },
   "source": [
    "# Scraping in five lines:"
   ]
  },
  {
   "cell_type": "code",
   "execution_count": null,
   "metadata": {
    "collapsed": true
   },
   "outputs": [],
   "source": [
    "# Look for headlines in the NYTimes\n",
    "import requests\n",
    "from bs4 import BeautifulSoup\n",
    "r = requests.get('http://www.nytimes.com/')\n",
    "soup = BeautifulSoup(r.text)\n",
    "tags = soup.find_all(attrs={'class': 'story-heading'})\n"
   ]
  },
  {
   "cell_type": "code",
   "execution_count": null,
   "metadata": {
    "collapsed": false,
    "slideshow": {
     "slide_type": "fragment"
    }
   },
   "outputs": [],
   "source": [
    "for tag in tags: display(HTML(str(tag)))"
   ]
  },
  {
   "cell_type": "markdown",
   "metadata": {
    "collapsed": true,
    "slideshow": {
     "slide_type": "slide"
    }
   },
   "source": [
    "# Hedging your bets\n",
    "\n",
    "* There are lots of ways to specify a search through the tag soup\n",
    "* Some methods may be more robust than others...\n",
    "* But it's not worth spending too much time trying to out-wit whatever might be updating the site on the other side"
   ]
  },
  {
   "cell_type": "code",
   "execution_count": null,
   "metadata": {
    "collapsed": false
   },
   "outputs": [],
   "source": [
    "# Another way to get the headlines\n",
    "articles = soup.find_all('article')\n",
    "import re\n",
    "[article.find_all(re.compile('^h\\d')) for article in articles]"
   ]
  },
  {
   "cell_type": "markdown",
   "metadata": {
    "slideshow": {
     "slide_type": "slide"
    }
   },
   "source": [
    "# Advanced topics: HTTP\n",
    "\n",
    "* HTTP specifies *how* you ask for and retrieve content\n",
    "* Also specifies metadata in headers that control caching, redirects, sessions, and more"
   ]
  },
  {
   "cell_type": "code",
   "execution_count": null,
   "metadata": {
    "collapsed": false
   },
   "outputs": [],
   "source": [
    "r = requests.get('http://google.com/')\n",
    "r.headers"
   ]
  },
  {
   "cell_type": "markdown",
   "metadata": {
    "slideshow": {
     "slide_type": "slide"
    }
   },
   "source": [
    "# Searches and forms\n",
    "\n",
    "* Typically, the most interesting things to scrape are hidden behind searches and forms\n",
    "* How do you enter text into Google's search box via Python?"
   ]
  },
  {
   "cell_type": "code",
   "execution_count": null,
   "metadata": {
    "collapsed": true,
    "slideshow": {
     "slide_type": "subslide"
    }
   },
   "outputs": [],
   "source": [
    "soup = BeautifulSoup(requests.get('http://google.com').text)\n",
    "print soup.find('form').prettify()"
   ]
  },
  {
   "cell_type": "code",
   "execution_count": null,
   "metadata": {
    "collapsed": false,
    "slideshow": {
     "slide_type": "fragment"
    }
   },
   "outputs": [],
   "source": [
    "r = requests.get('http://google.com/search', \n",
    "                 params={'q':  'how long does a walrus live?',\n",
    "                         'btnI': \"I'm Feeling Lucky\"})\n"
   ]
  },
  {
   "cell_type": "markdown",
   "metadata": {
    "collapsed": true,
    "slideshow": {
     "slide_type": "slide"
    }
   },
   "source": [
    "# Types of requests\n",
    "\n",
    "* `requests.get` is actually doing a `GET`\n",
    "    * It encodes the parameters (if any) directly into the url: `?param=value&param2=value2...`\n",
    "    * This means that it gets *saved into your browser history*\n",
    "    * Back buttons, refresh may send the same parameters again"
   ]
  },
  {
   "cell_type": "markdown",
   "metadata": {
    "slideshow": {
     "slide_type": "subslide"
    }
   },
   "source": [
    "### Other HTTP verbs:\n",
    "\n",
    "* `POST` is the other most common method\n",
    "    * Just like `GET`, except that it sends its parameters hidden in a header\n",
    "    * Often used for purchases, posts, etc, that you don't want to submit twice\n",
    "* There's [others](https://en.wikipedia.org/wiki/Hypertext_Transfer_Protocol#Request_methods) (`PUT`, `DELETE`, `HEAD`, ...), but they're rarer"
   ]
  },
  {
   "cell_type": "markdown",
   "metadata": {
    "slideshow": {
     "slide_type": "slide"
    }
   },
   "source": [
    "# A slightly more complicated example\n",
    "\n",
    "* Let's look for satellites! [heavens-above.com](http://heavens-above.com)"
   ]
  },
  {
   "cell_type": "code",
   "execution_count": null,
   "metadata": {
    "collapsed": false
   },
   "outputs": [],
   "source": [
    "# Scrape the times that the ISS is visible\n",
    "r = requests.get('http://heavens-above.com/PassSummary.aspx?satid=25544&lat=41.8781&lng=-87.6298&loc=Chicago&alt=181&tz=CST')\n",
    "def scrape_times(text):\n",
    "    soup = BeautifulSoup(text)\n",
    "    rows = soup.find_all('tr', attrs={'class':'clickableRow'})\n",
    "    times = []\n",
    "    for row in rows:\n",
    "        cols = row.find_all('td')\n",
    "        times.append(cols[0].text + ' ' + cols[2].text)\n",
    "    return times\n",
    "scrape_times(r.text)"
   ]
  },
  {
   "cell_type": "code",
   "execution_count": null,
   "metadata": {
    "collapsed": false,
    "scrolled": true,
    "slideshow": {
     "slide_type": "slide"
    }
   },
   "outputs": [],
   "source": [
    "# Get the next page\n",
    "r = requests.get('http://heavens-above.com/PassSummary.aspx?satid=25544&lat=41.8781&lng=-87.6298&loc=Chicago&alt=181&tz=CST')\n",
    "def get_next_page(r):\n",
    "    soup = BeautifulSoup(r.text)\n",
    "    inputs = soup.find_all('input')\n",
    "    d = {input.attrs['name']: input.attrs['value'] for input in inputs}\n",
    "    d.pop('ctl00$cph1$btnPrev')\n",
    "    d['ctl00_cph1_radioAll'] = 'radioVisible'\n",
    "    from urlparse import urljoin\n",
    "    url = urljoin(r.url, soup.find('form').attrs['action'])\n",
    "    return requests.post(url, d)\n",
    "scrape_times(get_next_page(r).text)"
   ]
  },
  {
   "cell_type": "code",
   "execution_count": null,
   "metadata": {
    "collapsed": false,
    "slideshow": {
     "slide_type": "slide"
    }
   },
   "outputs": [],
   "source": [
    "# Get the next 10 pages!\n",
    "from tqdm import tqdm\n",
    "r = requests.get('http://heavens-above.com/PassSummary.aspx?satid=25544&lat=41.8781&lng=-87.6298&loc=Chicago&alt=181&tz=CST')\n",
    "\n",
    "times = []\n",
    "for i in tqdm(xrange(10)):\n",
    "    times.extend(scrape_times(r.text))\n",
    "    r = get_next_page(r)\n",
    "times"
   ]
  }
 ],
 "metadata": {
  "celltoolbar": "Slideshow",
  "kernelspec": {
   "display_name": "Python 2",
   "language": "python",
   "name": "python2"
  },
  "language_info": {
   "codemirror_mode": {
    "name": "ipython",
    "version": 2
   },
   "file_extension": ".py",
   "mimetype": "text/x-python",
   "name": "python",
   "nbconvert_exporter": "python",
   "pygments_lexer": "ipython2",
   "version": "2.7.11"
  }
 },
 "nbformat": 4,
 "nbformat_minor": 0
}

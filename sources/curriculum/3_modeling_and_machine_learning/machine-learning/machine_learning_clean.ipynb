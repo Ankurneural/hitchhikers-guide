{
 "cells": [
  {
   "cell_type": "markdown",
   "metadata": {},
   "source": [
    "# Machine Learning\n",
    "-----\n"
   ]
  },
  {
   "cell_type": "markdown",
   "metadata": {},
   "source": [
    "## Table of Contents\n",
    "- [Introduction](#introduction)\n",
    "- [Setup](#setup)\n",
    "- [The Machine Learning Process](#the-machine-learning-process)\n",
    "- [Problem Formulation](#model-formulation)\n",
    "- [Data Exploration and Preparation](#data-exploration-and-preparation)\n",
    "- [Creating Labels](#creating-labels)\n",
    "- [Feature Generation](#feature-generation)\n",
    "- [Modelling Preparation](#modelling-preparation)\n",
    "- [Model Fitting](#model-fitting)\n",
    "- [Model Evaluation](#model-evaluation)\n",
    "- [Machine Learning Pipeline](#machine-learning-pipeline)\n",
    "- [Deployment](#deployment)\n",
    "- [Exercises](#exercises)\n",
    "- [Resources](#resources)"
   ]
  },
  {
   "cell_type": "markdown",
   "metadata": {},
   "source": [
    "# Introduction\n",
    "In this tutorial, we'll discuss how to formulate a research question in the machine learning framework; how to transform raw data into something that can be fed into a model; how to build, evaluate, compare, and select models; and how to reasonably and accurately interpret model results. You'll also get hands-on experience using the `scikit-learn` package in Python to model the data you're familiar with from previous tutorials. \n",
    "\n",
    "\n",
    "This tutorial is based on chapter 6 of [Big Data and Social Science](https://github.com/BigDataSocialScience/)."
   ]
  },
  {
   "cell_type": "markdown",
   "metadata": {},
   "source": [
    "## Setup\n",
    "---\n",
    "*[Back to Table of Contents](#table-of-contents)*\n",
    "\n",
    "Before we begin, run the code cell below to initialize the libraries we'll be using in this assignment. We're already familiar with `numpy`, `pandas`, and `psycopg2` from previous tutorials. Here we'll also be using [`scikit-learn`](http://scikit-learn.org) to fit modeling."
   ]
  },
  {
   "cell_type": "code",
   "execution_count": 7,
   "metadata": {},
   "outputs": [
    {
     "name": "stdout",
     "output_type": "stream",
     "text": [
      "Populating the interactive namespace from numpy and matplotlib\n"
     ]
    }
   ],
   "source": [
    "%pylab inline\n",
    "import pandas as pd\n",
    "pd.set_option('display.max_columns', 99)\n",
    "import psycopg2\n",
    "import sklearn\n",
    "import seaborn as sns\n",
    "from sklearn.metrics import precision_recall_curve, auc\n",
    "from sklearn.metrics import accuracy_score, precision_score, recall_score\n",
    "from sklearn.ensemble import (RandomForestClassifier, ExtraTreesClassifier, GradientBoostingClassifier, \n",
    "AdaBoostClassifier)\n",
    "from sklearn.linear_model import LogisticRegression, SGDClassifier\n",
    "from sklearn.naive_bayes import GaussianNB\n",
    "from sklearn.tree import DecisionTreeClassifier\n",
    "from sqlalchemy import create_engine\n",
    "sns.set_style(\"white\")"
   ]
  },
  {
   "cell_type": "markdown",
   "metadata": {},
   "source": [
    "### Connect to the database"
   ]
  },
  {
   "cell_type": "code",
   "execution_count": null,
   "metadata": {
    "collapsed": true
   },
   "outputs": [],
   "source": [
    "db_name = 'food'\n",
    "hostname = \n",
    "conn = psycopg2.connect(database=db_name, host = hostname) #database connection"
   ]
  },
  {
   "cell_type": "markdown",
   "metadata": {},
   "source": [
    "The database connection allows us to make queries to a database from Python. "
   ]
  },
  {
   "cell_type": "code",
   "execution_count": null,
   "metadata": {
    "collapsed": true
   },
   "outputs": [],
   "source": [
    "df_tables = pd.read_sql(\"\"\"SELECT table_schema, table_name\n",
    "                          FROM information_schema.tables\n",
    "                          order by table_schema, table_name;\"\"\", conn)"
   ]
  },
  {
   "cell_type": "code",
   "execution_count": null,
   "metadata": {
    "collapsed": true
   },
   "outputs": [],
   "source": [
    "df_tables.head()"
   ]
  },
  {
   "cell_type": "code",
   "execution_count": 279,
   "metadata": {},
   "outputs": [
    {
     "name": "stderr",
     "output_type": "stream",
     "text": [
      "/Users/maren_eckhoff/anaconda3/envs/dssg/lib/python3.7/site-packages/IPython/core/interactiveshell.py:3049: DtypeWarning: Columns (0) have mixed types. Specify dtype option on import or set low_memory=False.\n",
      "  interactivity=interactivity, compiler=compiler, result=result)\n"
     ]
    }
   ],
   "source": [
    "raw_inspections = pd.read_csv('food_inspections.csv')"
   ]
  },
  {
   "cell_type": "code",
   "execution_count": 280,
   "metadata": {},
   "outputs": [
    {
     "data": {
      "text/html": [
       "<div>\n",
       "<style scoped>\n",
       "    .dataframe tbody tr th:only-of-type {\n",
       "        vertical-align: middle;\n",
       "    }\n",
       "\n",
       "    .dataframe tbody tr th {\n",
       "        vertical-align: top;\n",
       "    }\n",
       "\n",
       "    .dataframe thead th {\n",
       "        text-align: right;\n",
       "    }\n",
       "</style>\n",
       "<table border=\"1\" class=\"dataframe\">\n",
       "  <thead>\n",
       "    <tr style=\"text-align: right;\">\n",
       "      <th></th>\n",
       "      <th>Inspection ID</th>\n",
       "      <th>DBA Name</th>\n",
       "      <th>AKA Name</th>\n",
       "      <th>License #</th>\n",
       "      <th>Facility Type</th>\n",
       "      <th>Risk</th>\n",
       "      <th>Address</th>\n",
       "      <th>City</th>\n",
       "      <th>State</th>\n",
       "      <th>Zip</th>\n",
       "      <th>Inspection Date</th>\n",
       "      <th>Inspection Type</th>\n",
       "      <th>Results</th>\n",
       "      <th>Violations</th>\n",
       "      <th>Latitude</th>\n",
       "      <th>Longitude</th>\n",
       "      <th>Location</th>\n",
       "      <th>Historical Wards 2003-2015</th>\n",
       "      <th>Zip Codes</th>\n",
       "      <th>Community Areas</th>\n",
       "      <th>Census Tracts</th>\n",
       "      <th>Wards</th>\n",
       "    </tr>\n",
       "  </thead>\n",
       "  <tbody>\n",
       "    <tr>\n",
       "      <th>0</th>\n",
       "      <td>2293491</td>\n",
       "      <td>HAPPY CAMPER</td>\n",
       "      <td>HAPPY CAMPER</td>\n",
       "      <td>2652739.0</td>\n",
       "      <td>Restaurant</td>\n",
       "      <td>Risk 1 (High)</td>\n",
       "      <td>3458-3460 N CLARK ST</td>\n",
       "      <td>CHICAGO</td>\n",
       "      <td>IL</td>\n",
       "      <td>60657.0</td>\n",
       "      <td>06/13/2019</td>\n",
       "      <td>License</td>\n",
       "      <td>Pass</td>\n",
       "      <td>NaN</td>\n",
       "      <td>41.944940</td>\n",
       "      <td>-87.654864</td>\n",
       "      <td>(41.94493958323155, -87.65486419395602)</td>\n",
       "      <td>38.0</td>\n",
       "      <td>4449.0</td>\n",
       "      <td>57.0</td>\n",
       "      <td>710.0</td>\n",
       "      <td>25.0</td>\n",
       "    </tr>\n",
       "    <tr>\n",
       "      <th>1</th>\n",
       "      <td>2293490</td>\n",
       "      <td>HAPPY CAMPER</td>\n",
       "      <td>HAPPY CAMPER</td>\n",
       "      <td>2652735.0</td>\n",
       "      <td>Restaurant</td>\n",
       "      <td>Risk 1 (High)</td>\n",
       "      <td>3458-3460 N CLARK ST</td>\n",
       "      <td>CHICAGO</td>\n",
       "      <td>IL</td>\n",
       "      <td>60657.0</td>\n",
       "      <td>06/13/2019</td>\n",
       "      <td>License</td>\n",
       "      <td>Pass</td>\n",
       "      <td>NaN</td>\n",
       "      <td>41.944940</td>\n",
       "      <td>-87.654864</td>\n",
       "      <td>(41.94493958323155, -87.65486419395602)</td>\n",
       "      <td>NaN</td>\n",
       "      <td>NaN</td>\n",
       "      <td>NaN</td>\n",
       "      <td>NaN</td>\n",
       "      <td>NaN</td>\n",
       "    </tr>\n",
       "    <tr>\n",
       "      <th>2</th>\n",
       "      <td>2293539</td>\n",
       "      <td>NY KIDS CLUB</td>\n",
       "      <td>NY KIDS CLUB</td>\n",
       "      <td>2664634.0</td>\n",
       "      <td>Daycare (Under 2 Years)</td>\n",
       "      <td>Risk 1 (High)</td>\n",
       "      <td>2727 N LINCOLN AVE</td>\n",
       "      <td>CHICAGO</td>\n",
       "      <td>IL</td>\n",
       "      <td>60614.0</td>\n",
       "      <td>06/13/2019</td>\n",
       "      <td>License</td>\n",
       "      <td>Pass</td>\n",
       "      <td>55. PHYSICAL FACILITIES INSTALLED, MAINTAINED ...</td>\n",
       "      <td>41.931434</td>\n",
       "      <td>-87.656924</td>\n",
       "      <td>(41.93143397182936, -87.6569235021196)</td>\n",
       "      <td>16.0</td>\n",
       "      <td>21190.0</td>\n",
       "      <td>68.0</td>\n",
       "      <td>795.0</td>\n",
       "      <td>34.0</td>\n",
       "    </tr>\n",
       "    <tr>\n",
       "      <th>3</th>\n",
       "      <td>2293475</td>\n",
       "      <td>HAPPY CAMPER</td>\n",
       "      <td>HAPPY CAMPER</td>\n",
       "      <td>2652736.0</td>\n",
       "      <td>Restaurant</td>\n",
       "      <td>Risk 1 (High)</td>\n",
       "      <td>3458-3460 N CLARK ST</td>\n",
       "      <td>CHICAGO</td>\n",
       "      <td>IL</td>\n",
       "      <td>60657.0</td>\n",
       "      <td>06/13/2019</td>\n",
       "      <td>License</td>\n",
       "      <td>Pass</td>\n",
       "      <td>51. PLUMBING INSTALLED; PROPER BACKFLOW DEVICE...</td>\n",
       "      <td>41.944940</td>\n",
       "      <td>-87.654864</td>\n",
       "      <td>(41.94493958323155, -87.65486419395602)</td>\n",
       "      <td>38.0</td>\n",
       "      <td>4449.0</td>\n",
       "      <td>57.0</td>\n",
       "      <td>710.0</td>\n",
       "      <td>25.0</td>\n",
       "    </tr>\n",
       "    <tr>\n",
       "      <th>4</th>\n",
       "      <td>2293520</td>\n",
       "      <td>SUNNYSIDE CENTER</td>\n",
       "      <td>SUNNYSIDE CENTER</td>\n",
       "      <td>2215926.0</td>\n",
       "      <td>Daycare (Under 2 Years)</td>\n",
       "      <td>Risk 1 (High)</td>\n",
       "      <td>4500 N WINCHESTER AVE</td>\n",
       "      <td>CHICAGO</td>\n",
       "      <td>IL</td>\n",
       "      <td>60640.0</td>\n",
       "      <td>06/13/2019</td>\n",
       "      <td>License</td>\n",
       "      <td>Pass</td>\n",
       "      <td>55. PHYSICAL FACILITIES INSTALLED, MAINTAINED ...</td>\n",
       "      <td>41.963339</td>\n",
       "      <td>-87.677689</td>\n",
       "      <td>(41.96333910684637, -87.67768910841522)</td>\n",
       "      <td>13.0</td>\n",
       "      <td>22616.0</td>\n",
       "      <td>6.0</td>\n",
       "      <td>225.0</td>\n",
       "      <td>18.0</td>\n",
       "    </tr>\n",
       "  </tbody>\n",
       "</table>\n",
       "</div>"
      ],
      "text/plain": [
       "  Inspection ID          DBA Name          AKA Name  License #  \\\n",
       "0       2293491      HAPPY CAMPER      HAPPY CAMPER  2652739.0   \n",
       "1       2293490      HAPPY CAMPER      HAPPY CAMPER  2652735.0   \n",
       "2       2293539      NY KIDS CLUB      NY KIDS CLUB  2664634.0   \n",
       "3       2293475      HAPPY CAMPER      HAPPY CAMPER  2652736.0   \n",
       "4       2293520  SUNNYSIDE CENTER  SUNNYSIDE CENTER  2215926.0   \n",
       "\n",
       "             Facility Type           Risk                Address     City  \\\n",
       "0               Restaurant  Risk 1 (High)   3458-3460 N CLARK ST  CHICAGO   \n",
       "1               Restaurant  Risk 1 (High)   3458-3460 N CLARK ST  CHICAGO   \n",
       "2  Daycare (Under 2 Years)  Risk 1 (High)     2727 N LINCOLN AVE  CHICAGO   \n",
       "3               Restaurant  Risk 1 (High)   3458-3460 N CLARK ST  CHICAGO   \n",
       "4  Daycare (Under 2 Years)  Risk 1 (High)  4500 N WINCHESTER AVE  CHICAGO   \n",
       "\n",
       "  State      Zip Inspection Date Inspection Type Results  \\\n",
       "0    IL  60657.0      06/13/2019         License    Pass   \n",
       "1    IL  60657.0      06/13/2019         License    Pass   \n",
       "2    IL  60614.0      06/13/2019         License    Pass   \n",
       "3    IL  60657.0      06/13/2019         License    Pass   \n",
       "4    IL  60640.0      06/13/2019         License    Pass   \n",
       "\n",
       "                                          Violations   Latitude  Longitude  \\\n",
       "0                                                NaN  41.944940 -87.654864   \n",
       "1                                                NaN  41.944940 -87.654864   \n",
       "2  55. PHYSICAL FACILITIES INSTALLED, MAINTAINED ...  41.931434 -87.656924   \n",
       "3  51. PLUMBING INSTALLED; PROPER BACKFLOW DEVICE...  41.944940 -87.654864   \n",
       "4  55. PHYSICAL FACILITIES INSTALLED, MAINTAINED ...  41.963339 -87.677689   \n",
       "\n",
       "                                  Location  Historical Wards 2003-2015  \\\n",
       "0  (41.94493958323155, -87.65486419395602)                        38.0   \n",
       "1  (41.94493958323155, -87.65486419395602)                         NaN   \n",
       "2   (41.93143397182936, -87.6569235021196)                        16.0   \n",
       "3  (41.94493958323155, -87.65486419395602)                        38.0   \n",
       "4  (41.96333910684637, -87.67768910841522)                        13.0   \n",
       "\n",
       "   Zip Codes  Community Areas  Census Tracts  Wards  \n",
       "0     4449.0             57.0          710.0   25.0  \n",
       "1        NaN              NaN            NaN    NaN  \n",
       "2    21190.0             68.0          795.0   34.0  \n",
       "3     4449.0             57.0          710.0   25.0  \n",
       "4    22616.0              6.0          225.0   18.0  "
      ]
     },
     "execution_count": 280,
     "metadata": {},
     "output_type": "execute_result"
    }
   ],
   "source": [
    "raw_inspections.head()"
   ]
  },
  {
   "cell_type": "code",
   "execution_count": 281,
   "metadata": {},
   "outputs": [],
   "source": [
    "def create_int_inspections(raw_inspections: pd.DataFrame):\n",
    "\n",
    "    int_inspections = raw_inspections.drop(columns = ['Location', # location is contained in longitude and latitude\n",
    "                                                     'State']) # State is constant\n",
    "\n",
    "    int_inspections.rename(columns = {'Inspection ID': 'inspection_id', \n",
    "                         'DBA Name': 'dba_name', \n",
    "                         'AKA Name': 'nickname', \n",
    "                         'License #': 'license_number', \n",
    "                         'Facility Type': 'facility_type',\n",
    "                         'Risk': 'risk_category', \n",
    "                         'Address': 'address', \n",
    "                         'City': 'city', \n",
    "                         'Zip': 'zip', \n",
    "                         'Inspection Date': 'inspection_date',\n",
    "                         'Inspection Type': 'inspection_type', \n",
    "                         'Results': 'inspection_result', \n",
    "                         'Violations': 'violations', \n",
    "                         'Latitude': 'latitude', \n",
    "                         'Longitude': 'longitude',\n",
    "                         'Historical Wards 2003-2015': 'historical_wards', \n",
    "                         'Zip Codes': 'zip_codes',\n",
    "                         'Community Areas': 'community_areas', \n",
    "                         'Census Tracts': 'census_tracts', \n",
    "                         'Wards': 'wards'},\n",
    "             inplace = True)\n",
    "    \n",
    "    # fix date format\n",
    "    int_inspections['inspection_date'] = pd.to_datetime(int_inspections.inspection_date)\n",
    "    \n",
    "    return int_inspections"
   ]
  },
  {
   "cell_type": "code",
   "execution_count": 282,
   "metadata": {},
   "outputs": [
    {
     "data": {
      "text/html": [
       "<div>\n",
       "<style scoped>\n",
       "    .dataframe tbody tr th:only-of-type {\n",
       "        vertical-align: middle;\n",
       "    }\n",
       "\n",
       "    .dataframe tbody tr th {\n",
       "        vertical-align: top;\n",
       "    }\n",
       "\n",
       "    .dataframe thead th {\n",
       "        text-align: right;\n",
       "    }\n",
       "</style>\n",
       "<table border=\"1\" class=\"dataframe\">\n",
       "  <thead>\n",
       "    <tr style=\"text-align: right;\">\n",
       "      <th></th>\n",
       "      <th>inspection_id</th>\n",
       "      <th>dba_name</th>\n",
       "      <th>nickname</th>\n",
       "      <th>license_number</th>\n",
       "      <th>facility_type</th>\n",
       "      <th>risk_category</th>\n",
       "      <th>address</th>\n",
       "      <th>city</th>\n",
       "      <th>zip</th>\n",
       "      <th>inspection_date</th>\n",
       "      <th>inspection_type</th>\n",
       "      <th>inspection_result</th>\n",
       "      <th>violations</th>\n",
       "      <th>latitude</th>\n",
       "      <th>longitude</th>\n",
       "      <th>historical_wards</th>\n",
       "      <th>zip_codes</th>\n",
       "      <th>community_areas</th>\n",
       "      <th>census_tracts</th>\n",
       "      <th>wards</th>\n",
       "    </tr>\n",
       "  </thead>\n",
       "  <tbody>\n",
       "    <tr>\n",
       "      <th>0</th>\n",
       "      <td>2293491</td>\n",
       "      <td>HAPPY CAMPER</td>\n",
       "      <td>HAPPY CAMPER</td>\n",
       "      <td>2652739.0</td>\n",
       "      <td>Restaurant</td>\n",
       "      <td>Risk 1 (High)</td>\n",
       "      <td>3458-3460 N CLARK ST</td>\n",
       "      <td>CHICAGO</td>\n",
       "      <td>60657.0</td>\n",
       "      <td>2019-06-13</td>\n",
       "      <td>License</td>\n",
       "      <td>Pass</td>\n",
       "      <td>NaN</td>\n",
       "      <td>41.944940</td>\n",
       "      <td>-87.654864</td>\n",
       "      <td>38.0</td>\n",
       "      <td>4449.0</td>\n",
       "      <td>57.0</td>\n",
       "      <td>710.0</td>\n",
       "      <td>25.0</td>\n",
       "    </tr>\n",
       "    <tr>\n",
       "      <th>1</th>\n",
       "      <td>2293490</td>\n",
       "      <td>HAPPY CAMPER</td>\n",
       "      <td>HAPPY CAMPER</td>\n",
       "      <td>2652735.0</td>\n",
       "      <td>Restaurant</td>\n",
       "      <td>Risk 1 (High)</td>\n",
       "      <td>3458-3460 N CLARK ST</td>\n",
       "      <td>CHICAGO</td>\n",
       "      <td>60657.0</td>\n",
       "      <td>2019-06-13</td>\n",
       "      <td>License</td>\n",
       "      <td>Pass</td>\n",
       "      <td>NaN</td>\n",
       "      <td>41.944940</td>\n",
       "      <td>-87.654864</td>\n",
       "      <td>NaN</td>\n",
       "      <td>NaN</td>\n",
       "      <td>NaN</td>\n",
       "      <td>NaN</td>\n",
       "      <td>NaN</td>\n",
       "    </tr>\n",
       "    <tr>\n",
       "      <th>2</th>\n",
       "      <td>2293539</td>\n",
       "      <td>NY KIDS CLUB</td>\n",
       "      <td>NY KIDS CLUB</td>\n",
       "      <td>2664634.0</td>\n",
       "      <td>Daycare (Under 2 Years)</td>\n",
       "      <td>Risk 1 (High)</td>\n",
       "      <td>2727 N LINCOLN AVE</td>\n",
       "      <td>CHICAGO</td>\n",
       "      <td>60614.0</td>\n",
       "      <td>2019-06-13</td>\n",
       "      <td>License</td>\n",
       "      <td>Pass</td>\n",
       "      <td>55. PHYSICAL FACILITIES INSTALLED, MAINTAINED ...</td>\n",
       "      <td>41.931434</td>\n",
       "      <td>-87.656924</td>\n",
       "      <td>16.0</td>\n",
       "      <td>21190.0</td>\n",
       "      <td>68.0</td>\n",
       "      <td>795.0</td>\n",
       "      <td>34.0</td>\n",
       "    </tr>\n",
       "    <tr>\n",
       "      <th>3</th>\n",
       "      <td>2293475</td>\n",
       "      <td>HAPPY CAMPER</td>\n",
       "      <td>HAPPY CAMPER</td>\n",
       "      <td>2652736.0</td>\n",
       "      <td>Restaurant</td>\n",
       "      <td>Risk 1 (High)</td>\n",
       "      <td>3458-3460 N CLARK ST</td>\n",
       "      <td>CHICAGO</td>\n",
       "      <td>60657.0</td>\n",
       "      <td>2019-06-13</td>\n",
       "      <td>License</td>\n",
       "      <td>Pass</td>\n",
       "      <td>51. PLUMBING INSTALLED; PROPER BACKFLOW DEVICE...</td>\n",
       "      <td>41.944940</td>\n",
       "      <td>-87.654864</td>\n",
       "      <td>38.0</td>\n",
       "      <td>4449.0</td>\n",
       "      <td>57.0</td>\n",
       "      <td>710.0</td>\n",
       "      <td>25.0</td>\n",
       "    </tr>\n",
       "    <tr>\n",
       "      <th>4</th>\n",
       "      <td>2293520</td>\n",
       "      <td>SUNNYSIDE CENTER</td>\n",
       "      <td>SUNNYSIDE CENTER</td>\n",
       "      <td>2215926.0</td>\n",
       "      <td>Daycare (Under 2 Years)</td>\n",
       "      <td>Risk 1 (High)</td>\n",
       "      <td>4500 N WINCHESTER AVE</td>\n",
       "      <td>CHICAGO</td>\n",
       "      <td>60640.0</td>\n",
       "      <td>2019-06-13</td>\n",
       "      <td>License</td>\n",
       "      <td>Pass</td>\n",
       "      <td>55. PHYSICAL FACILITIES INSTALLED, MAINTAINED ...</td>\n",
       "      <td>41.963339</td>\n",
       "      <td>-87.677689</td>\n",
       "      <td>13.0</td>\n",
       "      <td>22616.0</td>\n",
       "      <td>6.0</td>\n",
       "      <td>225.0</td>\n",
       "      <td>18.0</td>\n",
       "    </tr>\n",
       "  </tbody>\n",
       "</table>\n",
       "</div>"
      ],
      "text/plain": [
       "  inspection_id          dba_name          nickname  license_number  \\\n",
       "0       2293491      HAPPY CAMPER      HAPPY CAMPER       2652739.0   \n",
       "1       2293490      HAPPY CAMPER      HAPPY CAMPER       2652735.0   \n",
       "2       2293539      NY KIDS CLUB      NY KIDS CLUB       2664634.0   \n",
       "3       2293475      HAPPY CAMPER      HAPPY CAMPER       2652736.0   \n",
       "4       2293520  SUNNYSIDE CENTER  SUNNYSIDE CENTER       2215926.0   \n",
       "\n",
       "             facility_type  risk_category                address     city  \\\n",
       "0               Restaurant  Risk 1 (High)   3458-3460 N CLARK ST  CHICAGO   \n",
       "1               Restaurant  Risk 1 (High)   3458-3460 N CLARK ST  CHICAGO   \n",
       "2  Daycare (Under 2 Years)  Risk 1 (High)     2727 N LINCOLN AVE  CHICAGO   \n",
       "3               Restaurant  Risk 1 (High)   3458-3460 N CLARK ST  CHICAGO   \n",
       "4  Daycare (Under 2 Years)  Risk 1 (High)  4500 N WINCHESTER AVE  CHICAGO   \n",
       "\n",
       "       zip inspection_date inspection_type inspection_result  \\\n",
       "0  60657.0      2019-06-13         License              Pass   \n",
       "1  60657.0      2019-06-13         License              Pass   \n",
       "2  60614.0      2019-06-13         License              Pass   \n",
       "3  60657.0      2019-06-13         License              Pass   \n",
       "4  60640.0      2019-06-13         License              Pass   \n",
       "\n",
       "                                          violations   latitude  longitude  \\\n",
       "0                                                NaN  41.944940 -87.654864   \n",
       "1                                                NaN  41.944940 -87.654864   \n",
       "2  55. PHYSICAL FACILITIES INSTALLED, MAINTAINED ...  41.931434 -87.656924   \n",
       "3  51. PLUMBING INSTALLED; PROPER BACKFLOW DEVICE...  41.944940 -87.654864   \n",
       "4  55. PHYSICAL FACILITIES INSTALLED, MAINTAINED ...  41.963339 -87.677689   \n",
       "\n",
       "   historical_wards  zip_codes  community_areas  census_tracts  wards  \n",
       "0              38.0     4449.0             57.0          710.0   25.0  \n",
       "1               NaN        NaN              NaN            NaN    NaN  \n",
       "2              16.0    21190.0             68.0          795.0   34.0  \n",
       "3              38.0     4449.0             57.0          710.0   25.0  \n",
       "4              13.0    22616.0              6.0          225.0   18.0  "
      ]
     },
     "execution_count": 282,
     "metadata": {},
     "output_type": "execute_result"
    }
   ],
   "source": [
    "int_inspections = create_int_inspections(raw_inspections)\n",
    "int_inspections.head()"
   ]
  },
  {
   "cell_type": "code",
   "execution_count": 44,
   "metadata": {},
   "outputs": [
    {
     "data": {
      "text/plain": [
       "Risk 1 (High)      120734\n",
       "Risk 2 (Medium)     32504\n",
       "Risk 3 (Low)        14256\n",
       "All                    31\n",
       "Name: risk_category, dtype: int64"
      ]
     },
     "execution_count": 44,
     "metadata": {},
     "output_type": "execute_result"
    }
   ],
   "source": [
    "# basic descriptives\n",
    "int_inspections.risk_category.value_counts()"
   ]
  },
  {
   "cell_type": "code",
   "execution_count": 25,
   "metadata": {},
   "outputs": [
    {
     "data": {
      "text/plain": [
       "Pass                    90723\n",
       "Fail                    31232\n",
       "Pass w/ Conditions      22486\n",
       "Out of Business         15528\n",
       "No Entry                 5863\n",
       "Not Ready                1684\n",
       "Business Not Located       57\n",
       "Name: inspection_result, dtype: int64"
      ]
     },
     "execution_count": 25,
     "metadata": {},
     "output_type": "execute_result"
    }
   ],
   "source": [
    "# basic descriptives\n",
    "int_inspections.inspection_result.value_counts()"
   ]
  },
  {
   "cell_type": "code",
   "execution_count": 283,
   "metadata": {},
   "outputs": [
    {
     "data": {
      "text/plain": [
       "<matplotlib.axes._subplots.AxesSubplot at 0x157b7f828>"
      ]
     },
     "execution_count": 283,
     "metadata": {},
     "output_type": "execute_result"
    },
    {
     "data": {
      "image/png": "[encoded data removed]",
      "text/plain": [
       "<Figure size 432x288 with 1 Axes>"
      ]
     },
     "metadata": {
      "needs_background": "light"
     },
     "output_type": "display_data"
    }
   ],
   "source": [
    "%matplotlib inline\n",
    "int_inspections.inspection_date.hist()"
   ]
  },
  {
   "cell_type": "code",
   "execution_count": 284,
   "metadata": {},
   "outputs": [
    {
     "data": {
      "text/html": [
       "<div>\n",
       "<style scoped>\n",
       "    .dataframe tbody tr th:only-of-type {\n",
       "        vertical-align: middle;\n",
       "    }\n",
       "\n",
       "    .dataframe tbody tr th {\n",
       "        vertical-align: top;\n",
       "    }\n",
       "\n",
       "    .dataframe thead th {\n",
       "        text-align: right;\n",
       "    }\n",
       "</style>\n",
       "<table border=\"1\" class=\"dataframe\">\n",
       "  <thead>\n",
       "    <tr style=\"text-align: right;\">\n",
       "      <th></th>\n",
       "      <th>inspection_id</th>\n",
       "      <th>dba_name</th>\n",
       "      <th>nickname</th>\n",
       "      <th>license_number</th>\n",
       "      <th>facility_type</th>\n",
       "      <th>risk_category</th>\n",
       "      <th>address</th>\n",
       "      <th>city</th>\n",
       "      <th>zip</th>\n",
       "      <th>inspection_date</th>\n",
       "      <th>inspection_type</th>\n",
       "      <th>inspection_result</th>\n",
       "      <th>violations</th>\n",
       "      <th>latitude</th>\n",
       "      <th>longitude</th>\n",
       "      <th>historical_wards</th>\n",
       "      <th>zip_codes</th>\n",
       "      <th>community_areas</th>\n",
       "      <th>census_tracts</th>\n",
       "      <th>wards</th>\n",
       "    </tr>\n",
       "  </thead>\n",
       "  <tbody>\n",
       "    <tr>\n",
       "      <th>167573</th>\n",
       "      <td>381269</td>\n",
       "      <td>CARSON'S RIBS</td>\n",
       "      <td>CARSON'S RIBS</td>\n",
       "      <td>33555.0</td>\n",
       "      <td>Restaurant</td>\n",
       "      <td>Risk 1 (High)</td>\n",
       "      <td>612 N WELLS ST</td>\n",
       "      <td>CH{</td>\n",
       "      <td>NaN</td>\n",
       "      <td>NaT</td>\n",
       "      <td>NaN</td>\n",
       "      <td>NaN</td>\n",
       "      <td>NaN</td>\n",
       "      <td>NaN</td>\n",
       "      <td>NaN</td>\n",
       "      <td>NaN</td>\n",
       "      <td>NaN</td>\n",
       "      <td>NaN</td>\n",
       "      <td>NaN</td>\n",
       "      <td>NaN</td>\n",
       "    </tr>\n",
       "    <tr>\n",
       "      <th>167574</th>\n",
       "      <td>\"error\" : true</td>\n",
       "      <td>NaN</td>\n",
       "      <td>NaN</td>\n",
       "      <td>NaN</td>\n",
       "      <td>NaN</td>\n",
       "      <td>NaN</td>\n",
       "      <td>NaN</td>\n",
       "      <td>NaN</td>\n",
       "      <td>NaN</td>\n",
       "      <td>NaT</td>\n",
       "      <td>NaN</td>\n",
       "      <td>NaN</td>\n",
       "      <td>NaN</td>\n",
       "      <td>NaN</td>\n",
       "      <td>NaN</td>\n",
       "      <td>NaN</td>\n",
       "      <td>NaN</td>\n",
       "      <td>NaN</td>\n",
       "      <td>NaN</td>\n",
       "      <td>NaN</td>\n",
       "    </tr>\n",
       "    <tr>\n",
       "      <th>167575</th>\n",
       "      <td>\"message\" : \"Internal error\"</td>\n",
       "      <td>NaN</td>\n",
       "      <td>NaN</td>\n",
       "      <td>NaN</td>\n",
       "      <td>NaN</td>\n",
       "      <td>NaN</td>\n",
       "      <td>NaN</td>\n",
       "      <td>NaN</td>\n",
       "      <td>NaN</td>\n",
       "      <td>NaT</td>\n",
       "      <td>NaN</td>\n",
       "      <td>NaN</td>\n",
       "      <td>NaN</td>\n",
       "      <td>NaN</td>\n",
       "      <td>NaN</td>\n",
       "      <td>NaN</td>\n",
       "      <td>NaN</td>\n",
       "      <td>NaN</td>\n",
       "      <td>NaN</td>\n",
       "      <td>NaN</td>\n",
       "    </tr>\n",
       "    <tr>\n",
       "      <th>167576</th>\n",
       "      <td>\"status\" : 500</td>\n",
       "      <td>NaN</td>\n",
       "      <td>NaN</td>\n",
       "      <td>NaN</td>\n",
       "      <td>NaN</td>\n",
       "      <td>NaN</td>\n",
       "      <td>NaN</td>\n",
       "      <td>NaN</td>\n",
       "      <td>NaN</td>\n",
       "      <td>NaT</td>\n",
       "      <td>NaN</td>\n",
       "      <td>NaN</td>\n",
       "      <td>NaN</td>\n",
       "      <td>NaN</td>\n",
       "      <td>NaN</td>\n",
       "      <td>NaN</td>\n",
       "      <td>NaN</td>\n",
       "      <td>NaN</td>\n",
       "      <td>NaN</td>\n",
       "      <td>NaN</td>\n",
       "    </tr>\n",
       "    <tr>\n",
       "      <th>167577</th>\n",
       "      <td>}</td>\n",
       "      <td>NaN</td>\n",
       "      <td>NaN</td>\n",
       "      <td>NaN</td>\n",
       "      <td>NaN</td>\n",
       "      <td>NaN</td>\n",
       "      <td>NaN</td>\n",
       "      <td>NaN</td>\n",
       "      <td>NaN</td>\n",
       "      <td>NaT</td>\n",
       "      <td>NaN</td>\n",
       "      <td>NaN</td>\n",
       "      <td>NaN</td>\n",
       "      <td>NaN</td>\n",
       "      <td>NaN</td>\n",
       "      <td>NaN</td>\n",
       "      <td>NaN</td>\n",
       "      <td>NaN</td>\n",
       "      <td>NaN</td>\n",
       "      <td>NaN</td>\n",
       "    </tr>\n",
       "  </tbody>\n",
       "</table>\n",
       "</div>"
      ],
      "text/plain": [
       "                         inspection_id       dba_name       nickname  \\\n",
       "167573                          381269  CARSON'S RIBS  CARSON'S RIBS   \n",
       "167574                  \"error\" : true            NaN            NaN   \n",
       "167575    \"message\" : \"Internal error\"            NaN            NaN   \n",
       "167576                  \"status\" : 500            NaN            NaN   \n",
       "167577                               }            NaN            NaN   \n",
       "\n",
       "        license_number facility_type  risk_category         address city  zip  \\\n",
       "167573         33555.0    Restaurant  Risk 1 (High)  612 N WELLS ST  CH{  NaN   \n",
       "167574             NaN           NaN            NaN             NaN  NaN  NaN   \n",
       "167575             NaN           NaN            NaN             NaN  NaN  NaN   \n",
       "167576             NaN           NaN            NaN             NaN  NaN  NaN   \n",
       "167577             NaN           NaN            NaN             NaN  NaN  NaN   \n",
       "\n",
       "       inspection_date inspection_type inspection_result violations  latitude  \\\n",
       "167573             NaT             NaN               NaN        NaN       NaN   \n",
       "167574             NaT             NaN               NaN        NaN       NaN   \n",
       "167575             NaT             NaN               NaN        NaN       NaN   \n",
       "167576             NaT             NaN               NaN        NaN       NaN   \n",
       "167577             NaT             NaN               NaN        NaN       NaN   \n",
       "\n",
       "        longitude  historical_wards  zip_codes  community_areas  \\\n",
       "167573        NaN               NaN        NaN              NaN   \n",
       "167574        NaN               NaN        NaN              NaN   \n",
       "167575        NaN               NaN        NaN              NaN   \n",
       "167576        NaN               NaN        NaN              NaN   \n",
       "167577        NaN               NaN        NaN              NaN   \n",
       "\n",
       "        census_tracts  wards  \n",
       "167573            NaN    NaN  \n",
       "167574            NaN    NaN  \n",
       "167575            NaN    NaN  \n",
       "167576            NaN    NaN  \n",
       "167577            NaN    NaN  "
      ]
     },
     "execution_count": 284,
     "metadata": {},
     "output_type": "execute_result"
    }
   ],
   "source": [
    "int_inspections.loc[int_inspections.inspection_date.isnull(),:]"
   ]
  },
  {
   "cell_type": "code",
   "execution_count": 285,
   "metadata": {
    "collapsed": true
   },
   "outputs": [],
   "source": [
    "def create_prm_inspections(int_inspections: pd.DataFrame):\n",
    "    \n",
    "    prm_inspections = int_inspections[['inspection_id', \n",
    "                                       'dba_name', \n",
    "                                       'nickname', \n",
    "                                       'license_number',\n",
    "                                       'facility_type', \n",
    "                                       'risk_category', \n",
    "                                       'address', \n",
    "                                       'city', \n",
    "                                       'zip',\n",
    "                                       'inspection_date', \n",
    "                                       'inspection_type', \n",
    "                                       'inspection_result', \n",
    "                                       'violations',\n",
    "                                       'latitude', \n",
    "                                       'longitude', \n",
    "                                       'zip_codes',\n",
    "                                       'community_areas', \n",
    "                                       'census_tracts']]\n",
    "    prm_inspections = prm_inspections.loc[prm_inspections.inspection_date.notnull(),:]\n",
    "\n",
    "    return prm_inspections    "
   ]
  },
  {
   "cell_type": "code",
   "execution_count": 286,
   "metadata": {},
   "outputs": [
    {
     "data": {
      "text/html": [
       "<div>\n",
       "<style scoped>\n",
       "    .dataframe tbody tr th:only-of-type {\n",
       "        vertical-align: middle;\n",
       "    }\n",
       "\n",
       "    .dataframe tbody tr th {\n",
       "        vertical-align: top;\n",
       "    }\n",
       "\n",
       "    .dataframe thead th {\n",
       "        text-align: right;\n",
       "    }\n",
       "</style>\n",
       "<table border=\"1\" class=\"dataframe\">\n",
       "  <thead>\n",
       "    <tr style=\"text-align: right;\">\n",
       "      <th></th>\n",
       "      <th>inspection_id</th>\n",
       "      <th>dba_name</th>\n",
       "      <th>nickname</th>\n",
       "      <th>license_number</th>\n",
       "      <th>facility_type</th>\n",
       "      <th>risk_category</th>\n",
       "      <th>address</th>\n",
       "      <th>city</th>\n",
       "      <th>zip</th>\n",
       "      <th>inspection_date</th>\n",
       "      <th>inspection_type</th>\n",
       "      <th>inspection_result</th>\n",
       "      <th>violations</th>\n",
       "      <th>latitude</th>\n",
       "      <th>longitude</th>\n",
       "      <th>zip_codes</th>\n",
       "      <th>community_areas</th>\n",
       "      <th>census_tracts</th>\n",
       "    </tr>\n",
       "  </thead>\n",
       "  <tbody>\n",
       "    <tr>\n",
       "      <th>0</th>\n",
       "      <td>2293491</td>\n",
       "      <td>HAPPY CAMPER</td>\n",
       "      <td>HAPPY CAMPER</td>\n",
       "      <td>2652739.0</td>\n",
       "      <td>Restaurant</td>\n",
       "      <td>Risk 1 (High)</td>\n",
       "      <td>3458-3460 N CLARK ST</td>\n",
       "      <td>CHICAGO</td>\n",
       "      <td>60657.0</td>\n",
       "      <td>2019-06-13</td>\n",
       "      <td>License</td>\n",
       "      <td>Pass</td>\n",
       "      <td>NaN</td>\n",
       "      <td>41.944940</td>\n",
       "      <td>-87.654864</td>\n",
       "      <td>4449.0</td>\n",
       "      <td>57.0</td>\n",
       "      <td>710.0</td>\n",
       "    </tr>\n",
       "    <tr>\n",
       "      <th>1</th>\n",
       "      <td>2293490</td>\n",
       "      <td>HAPPY CAMPER</td>\n",
       "      <td>HAPPY CAMPER</td>\n",
       "      <td>2652735.0</td>\n",
       "      <td>Restaurant</td>\n",
       "      <td>Risk 1 (High)</td>\n",
       "      <td>3458-3460 N CLARK ST</td>\n",
       "      <td>CHICAGO</td>\n",
       "      <td>60657.0</td>\n",
       "      <td>2019-06-13</td>\n",
       "      <td>License</td>\n",
       "      <td>Pass</td>\n",
       "      <td>NaN</td>\n",
       "      <td>41.944940</td>\n",
       "      <td>-87.654864</td>\n",
       "      <td>NaN</td>\n",
       "      <td>NaN</td>\n",
       "      <td>NaN</td>\n",
       "    </tr>\n",
       "    <tr>\n",
       "      <th>2</th>\n",
       "      <td>2293539</td>\n",
       "      <td>NY KIDS CLUB</td>\n",
       "      <td>NY KIDS CLUB</td>\n",
       "      <td>2664634.0</td>\n",
       "      <td>Daycare (Under 2 Years)</td>\n",
       "      <td>Risk 1 (High)</td>\n",
       "      <td>2727 N LINCOLN AVE</td>\n",
       "      <td>CHICAGO</td>\n",
       "      <td>60614.0</td>\n",
       "      <td>2019-06-13</td>\n",
       "      <td>License</td>\n",
       "      <td>Pass</td>\n",
       "      <td>55. PHYSICAL FACILITIES INSTALLED, MAINTAINED ...</td>\n",
       "      <td>41.931434</td>\n",
       "      <td>-87.656924</td>\n",
       "      <td>21190.0</td>\n",
       "      <td>68.0</td>\n",
       "      <td>795.0</td>\n",
       "    </tr>\n",
       "    <tr>\n",
       "      <th>3</th>\n",
       "      <td>2293475</td>\n",
       "      <td>HAPPY CAMPER</td>\n",
       "      <td>HAPPY CAMPER</td>\n",
       "      <td>2652736.0</td>\n",
       "      <td>Restaurant</td>\n",
       "      <td>Risk 1 (High)</td>\n",
       "      <td>3458-3460 N CLARK ST</td>\n",
       "      <td>CHICAGO</td>\n",
       "      <td>60657.0</td>\n",
       "      <td>2019-06-13</td>\n",
       "      <td>License</td>\n",
       "      <td>Pass</td>\n",
       "      <td>51. PLUMBING INSTALLED; PROPER BACKFLOW DEVICE...</td>\n",
       "      <td>41.944940</td>\n",
       "      <td>-87.654864</td>\n",
       "      <td>4449.0</td>\n",
       "      <td>57.0</td>\n",
       "      <td>710.0</td>\n",
       "    </tr>\n",
       "    <tr>\n",
       "      <th>4</th>\n",
       "      <td>2293520</td>\n",
       "      <td>SUNNYSIDE CENTER</td>\n",
       "      <td>SUNNYSIDE CENTER</td>\n",
       "      <td>2215926.0</td>\n",
       "      <td>Daycare (Under 2 Years)</td>\n",
       "      <td>Risk 1 (High)</td>\n",
       "      <td>4500 N WINCHESTER AVE</td>\n",
       "      <td>CHICAGO</td>\n",
       "      <td>60640.0</td>\n",
       "      <td>2019-06-13</td>\n",
       "      <td>License</td>\n",
       "      <td>Pass</td>\n",
       "      <td>55. PHYSICAL FACILITIES INSTALLED, MAINTAINED ...</td>\n",
       "      <td>41.963339</td>\n",
       "      <td>-87.677689</td>\n",
       "      <td>22616.0</td>\n",
       "      <td>6.0</td>\n",
       "      <td>225.0</td>\n",
       "    </tr>\n",
       "  </tbody>\n",
       "</table>\n",
       "</div>"
      ],
      "text/plain": [
       "  inspection_id          dba_name          nickname  license_number  \\\n",
       "0       2293491      HAPPY CAMPER      HAPPY CAMPER       2652739.0   \n",
       "1       2293490      HAPPY CAMPER      HAPPY CAMPER       2652735.0   \n",
       "2       2293539      NY KIDS CLUB      NY KIDS CLUB       2664634.0   \n",
       "3       2293475      HAPPY CAMPER      HAPPY CAMPER       2652736.0   \n",
       "4       2293520  SUNNYSIDE CENTER  SUNNYSIDE CENTER       2215926.0   \n",
       "\n",
       "             facility_type  risk_category                address     city  \\\n",
       "0               Restaurant  Risk 1 (High)   3458-3460 N CLARK ST  CHICAGO   \n",
       "1               Restaurant  Risk 1 (High)   3458-3460 N CLARK ST  CHICAGO   \n",
       "2  Daycare (Under 2 Years)  Risk 1 (High)     2727 N LINCOLN AVE  CHICAGO   \n",
       "3               Restaurant  Risk 1 (High)   3458-3460 N CLARK ST  CHICAGO   \n",
       "4  Daycare (Under 2 Years)  Risk 1 (High)  4500 N WINCHESTER AVE  CHICAGO   \n",
       "\n",
       "       zip inspection_date inspection_type inspection_result  \\\n",
       "0  60657.0      2019-06-13         License              Pass   \n",
       "1  60657.0      2019-06-13         License              Pass   \n",
       "2  60614.0      2019-06-13         License              Pass   \n",
       "3  60657.0      2019-06-13         License              Pass   \n",
       "4  60640.0      2019-06-13         License              Pass   \n",
       "\n",
       "                                          violations   latitude  longitude  \\\n",
       "0                                                NaN  41.944940 -87.654864   \n",
       "1                                                NaN  41.944940 -87.654864   \n",
       "2  55. PHYSICAL FACILITIES INSTALLED, MAINTAINED ...  41.931434 -87.656924   \n",
       "3  51. PLUMBING INSTALLED; PROPER BACKFLOW DEVICE...  41.944940 -87.654864   \n",
       "4  55. PHYSICAL FACILITIES INSTALLED, MAINTAINED ...  41.963339 -87.677689   \n",
       "\n",
       "   zip_codes  community_areas  census_tracts  \n",
       "0     4449.0             57.0          710.0  \n",
       "1        NaN              NaN            NaN  \n",
       "2    21190.0             68.0          795.0  \n",
       "3     4449.0             57.0          710.0  \n",
       "4    22616.0              6.0          225.0  "
      ]
     },
     "execution_count": 286,
     "metadata": {},
     "output_type": "execute_result"
    }
   ],
   "source": [
    "prm_inspections = create_prm_inspections(int_inspections)\n",
    "prm_inspections.head()"
   ]
  },
  {
   "cell_type": "markdown",
   "metadata": {},
   "source": [
    "The table `information_schema.tables` contains information about all tables in the database. This comes in handy when you forget a tablename. "
   ]
  },
  {
   "cell_type": "markdown",
   "metadata": {},
   "source": [
    "# The Machine Learning Process\n",
    "*[Go back to Table of Contents](#table-of-contents)*\n",
    "\n",
    "- [**Understand the problem and goal.**](#problem-formulation) *This sounds obvious but is often nontrivial.* Problems typically start as vague \n",
    "descriptions of a goal - improving health outcomes, increasing graduation rates, understanding the effect of a \n",
    "variable *X* on an outcome *Y*, etc. It is really important to work with people who understand the domain being\n",
    "studied to dig deeper and define the problem more concretely. What is the analytical formulation of the metric \n",
    "that you are trying to optimize?\n",
    "- [**Formulate it as a machine learning problem.**](#problem-formulation) Is it a classification problem or a regression problem? Is the \n",
    "goal to build a model that generates a ranked list prioritized by risk, or is it to detect anomalies as new data \n",
    "come in? Knowing what kinds of tasks machine learning can solve will allow you to map the problem you are working on\n",
    "to one or more machine learning settings and give you access to a suite of methods.\n",
    "- **Data exploration and preparation.** Next, you need to carefully explore the data you have. What additional data\n",
    "do you need or have access to? What variable will you use to match records for integrating different data sources?\n",
    "What variables exist in the data set? Are they continuous or categorical? What about missing values? Can you use the \n",
    "variables in their original form, or do you need to alter them in some way?\n",
    "- [**Feature engineering.**](#feature-generation) In machine learning language, what you might know as independent variables or predictors \n",
    "or factors or covariates are called \"features.\" Creating good features is probably the most important step in the \n",
    "machine learning process. This involves doing transformations, creating interaction terms, or aggregating over data\n",
    "points or over time and space.\n",
    "- **Method selection.** Having formulated the problem and created your features, you now have a suite of methods to\n",
    "choose from. It would be great if there were a single method that always worked best for a specific type of problem. Typically, in machine learning, you take a variety of methods and try them, empirically validating which one is the best approach to your problem.\n",
    "- [**Evaluation.**](#evaluation) As you build a large number of possible models, you need a way choose the best among them. We'll cover methodology to validate models on historical data and discuss a variety of evaluation metrics. The next step is to validate using a field trial or experiment.\n",
    "- [**Deployment.**](#deployment) Once you have selected the best model and validated it using historical data as well as a field\n",
    "trial, you are ready to put the model into practice. You still have to keep in mind that new data will be coming in,\n",
    "and the model might change over time.\n"
   ]
  },
  {
   "cell_type": "markdown",
   "metadata": {},
   "source": [
    "# Problem Formulation\n",
    "*[Go back to Table of Contents](#table-of-contents)*\n",
    "\n",
    "When formulating a business problem as a machine learning problem, we need to ask ourselves\n",
    "* What is the goal of the business\n",
    "* What data is available\n",
    "* What conclusions can be drawn or what actions can be take based on the approach that we propose\n",
    "* Is there risk that our approach introduces biases?\n",
    "\n",
    "\n",
    "## Three Main Types of ML Tasks\n",
    "- **Explanation**: What properties drive the outcome and by how much? Sometimes the goal of explanatory models goes beyond the desire to understand, and there is an opportunity to take action based on the findings. In this case, the task becomes interventional. A typical example is: \"What behaviour leads to a high risk of cancer?\"\n",
    "- **Prediction**: What will be the outcome on a new data sample? A typical example is: \"How many units will I sell tomorrow?\"\n",
    "- **Optimisation**: How should the parameters be set to achieve an optimal outcome. In contrast to explanatory and predictive problems, in optimisation we assume that the relationships between inputs and outputs are known and the task is to determine the optimal inputs. A typical example is: \"What is the best setting for the machine?\"\n",
    "  \n",
    "## Our Machine Learning Problem\n",
    ">Of all prisoners released we would like to predict who is likely to re-enter jail within *5* years of the day we make our prediction. For instance, say it is Dec 31, 2004 and we want to identify which \n",
    ">prisoners are likely to re-enter jail between now and 2015. We can run our predictive model and identify who\n",
    ">is most likely at risk of recidivism. The is an example of a *binary prediction classification* problem. \n",
    "\n",
    "- **Unit of analysis**: Most problems can be considered at different levels of aggregation. For example, one could predict the recidivism risk for each prisoner or for each day and prisoner. The unit of analysis is the chosen level of aggregation.\n",
    "\n",
    "- **Target variable**: The term target variable refers to the quantity or outcome of interest. An alternative term is \"label\".\n",
    "\n",
    "In the example above, note that the outcome window of 5 years is completely arbitrary. You could use a window of 5, 3, 1 years or 1 day. \n",
    "The outcome window will depend on \n",
    "- how often you receive new data -- there is no sense in making the same predictions on the same data\n",
    "- how accurate your predictions are for a given time period\n",
    "- and on what time-scale you can use the predictions\n",
    "\n",
    "## Supervised vs Unsupervised\n",
    "\n",
    "Machine learning models can be categorised into supervised und unsupervised learning problems. \n",
    "- **Learning**: In the context of machine learning, the term learning refers to the process of optimising the parameters of the model for the given data set. \"Learning a model\" is synomous to fitting/estimating/training/building a model. All these terms are used interchangeably in the machine learning literature.\n",
    "\n",
    "\n",
    "- **Supervised learning** refers to problems where there is a target or outcome variable of interest and the true value of this label is known for a significant part of the data. Supervised learning methods can therefore learn from the labelled data.\n",
    "- **Unsupervised learning** refers to problems where the target variable is not known for any sample in the data set. A typicl example is the search for \"natural\" patterns or groupings in the data that \n",
    "we do not know about a priori. Clustering is the most common example of unsupervised learning, another example is \n",
    "principal components analysis (PCA).\n",
    "\n",
    "## Classification vs Regression\n",
    "Another way of categorising machine learning problems is based on the nature of the target variable.\n",
    "\n",
    "- **Classification**: In classification problems, the target variable can only take a small number of values. The most common type of classification problem is binary classification where the target can only be true or false. An example is the problem above where the prisoner could re-offend or not.\n",
    "\n",
    "- **Regression**: In regression problems, the target variable is continuous. Examples are the price of an asset, or the time until an event."
   ]
  },
  {
   "cell_type": "markdown",
   "metadata": {},
   "source": [
    "Task: What type of problem are you solving in your summer project?"
   ]
  },
  {
   "cell_type": "code",
   "execution_count": 287,
   "metadata": {},
   "outputs": [
    {
     "data": {
      "text/plain": [
       "1.0"
      ]
     },
     "execution_count": 287,
     "metadata": {},
     "output_type": "execute_result"
    }
   ],
   "source": [
    "# test whether inspection id is a unique unit of analysis\n",
    "len(prm_inspections.inspection_id.unique())/len(prm_inspections.inspection_id)"
   ]
  },
  {
   "cell_type": "markdown",
   "metadata": {},
   "source": [
    "# Data Exploration and Preparation\n",
    "\n",
    "We have covered data exploration in an earlier module. \n",
    "In order to predict recidivism, we will be using data from the `ildoc_admit` and `ildoc_exit` tables.\n",
    "\n",
    "The next step is to engineer our dataset into **features** and **labels**.\n",
    "For ease of reference, in subsequent examples, names of variables that pertain to predictors will start with \"`X_`\", and names of variables that pertain to outcome variables will start with \"`y_`\"."
   ]
  },
  {
   "cell_type": "markdown",
   "metadata": {},
   "source": [
    "## Creating Labels\n",
    "\n",
    "Labels/target variables, or *Y* variables, that we are trying to predict.\n",
    "\n",
    "We can write SQL code in `psql`, `dbeaver`, `pgAdmin`, or programmaticaly generate the SQL and pass to the DB using `psycopg2` to create the labels. Here is the SQL code for developing labels: \n"
   ]
  },
  {
   "cell_type": "code",
   "execution_count": 143,
   "metadata": {},
   "outputs": [
    {
     "data": {
      "text/plain": [
       "Pass                    90723\n",
       "Fail                    31232\n",
       "Pass w/ Conditions      22486\n",
       "Out of Business         15528\n",
       "No Entry                 5863\n",
       "Not Ready                1684\n",
       "Business Not Located       57\n",
       "Name: inspection_result, dtype: int64"
      ]
     },
     "execution_count": 143,
     "metadata": {},
     "output_type": "execute_result"
    }
   ],
   "source": [
    "prm_inspections.inspection_result.value_counts()"
   ]
  },
  {
   "cell_type": "code",
   "execution_count": 288,
   "metadata": {
    "collapsed": true
   },
   "outputs": [],
   "source": [
    "def create_target_variable(prm_inspections: pd.DataFrame):\n",
    "    \n",
    "    feat_target_variable = prm_inspections[['inspection_id', 'inspection_result']].copy()\n",
    "    feat_target_variable['pass_flag'] = feat_target_variable.inspection_result == 'Pass'\n",
    "    \n",
    "    return feat_target_variable[['inspection_id', 'pass_flag']]"
   ]
  },
  {
   "cell_type": "code",
   "execution_count": 290,
   "metadata": {},
   "outputs": [
    {
     "data": {
      "text/html": [
       "<div>\n",
       "<style scoped>\n",
       "    .dataframe tbody tr th:only-of-type {\n",
       "        vertical-align: middle;\n",
       "    }\n",
       "\n",
       "    .dataframe tbody tr th {\n",
       "        vertical-align: top;\n",
       "    }\n",
       "\n",
       "    .dataframe thead th {\n",
       "        text-align: right;\n",
       "    }\n",
       "</style>\n",
       "<table border=\"1\" class=\"dataframe\">\n",
       "  <thead>\n",
       "    <tr style=\"text-align: right;\">\n",
       "      <th></th>\n",
       "      <th>inspection_id</th>\n",
       "      <th>pass_flag</th>\n",
       "    </tr>\n",
       "  </thead>\n",
       "  <tbody>\n",
       "    <tr>\n",
       "      <th>0</th>\n",
       "      <td>2293491</td>\n",
       "      <td>True</td>\n",
       "    </tr>\n",
       "    <tr>\n",
       "      <th>1</th>\n",
       "      <td>2293490</td>\n",
       "      <td>True</td>\n",
       "    </tr>\n",
       "    <tr>\n",
       "      <th>2</th>\n",
       "      <td>2293539</td>\n",
       "      <td>True</td>\n",
       "    </tr>\n",
       "    <tr>\n",
       "      <th>3</th>\n",
       "      <td>2293475</td>\n",
       "      <td>True</td>\n",
       "    </tr>\n",
       "    <tr>\n",
       "      <th>4</th>\n",
       "      <td>2293520</td>\n",
       "      <td>True</td>\n",
       "    </tr>\n",
       "  </tbody>\n",
       "</table>\n",
       "</div>"
      ],
      "text/plain": [
       "  inspection_id  pass_flag\n",
       "0       2293491       True\n",
       "1       2293490       True\n",
       "2       2293539       True\n",
       "3       2293475       True\n",
       "4       2293520       True"
      ]
     },
     "execution_count": 290,
     "metadata": {},
     "output_type": "execute_result"
    }
   ],
   "source": [
    "feat_target_variable = create_target_variable(prm_inspections=prm_inspections)\n",
    "feat_target_variable.head()"
   ]
  },
  {
   "cell_type": "code",
   "execution_count": 291,
   "metadata": {},
   "outputs": [
    {
     "data": {
      "text/plain": [
       "True     90723\n",
       "False    76850\n",
       "Name: pass_flag, dtype: int64"
      ]
     },
     "execution_count": 291,
     "metadata": {},
     "output_type": "execute_result"
    }
   ],
   "source": [
    "feat_target_variable.pass_flag.value_counts()"
   ]
  },
  {
   "cell_type": "markdown",
   "metadata": {},
   "source": [
    "## Feature Generation\n",
    "*[Go back to Table of Contents](#table-of-contents)*\n",
    "\n",
    "\n",
    "**Features**: Features are calculated fields that capture aspects of the problem that might be useful for solving the problem. Alternative terms are \"independent variables\", \"predictors\" and \"explanatory variables\".\n",
    "\n",
    "Good features make machine learning systems effective. \n",
    "The better the features the easier it is the capture the structure of the data. You generate features by a combination of domain knowledge. In general, it is better to have more complex features and a simpler model rather than vice versa. Keeping the model simple makes it faster to train and easier to understand rather then extensively searching for the \"right\" model and \"right\" set of parameters. \n",
    "\n",
    "Machine Learning Algorithms learn a solution to a problem from data. The set of features is the best representation of the data to learn a solution to a problem. \n",
    "\n",
    "**Impact vs Feasibility**: The typical steps when planning what features to build is\n",
    "- Create a list of topics that may be relevant\n",
    "- Write down a list of feature ideas for each topic\n",
    "- Add a priority score to each feature\n",
    "- Add a feasibility score to each feature\n",
    "- Map data to features\n",
    "- Discuss and iterate\n",
    "\n",
    "Once we have a prioritised list of features, the feature engineering process can begin.\n",
    "\n",
    "- **Feature engineering** is the process of transforming raw data into features that better represent the underlying problem/data/structure to the predictive models, resulting in improved model accuracy on unseen data.\" ( from [Discover Feature Engineering](http://machinelearningmastery.com/discover-feature-engineering-how-to-engineer-features-and-how-to-get-good-at-it/) ). \n",
    "In text, for example, this might involve deriving traits of the text like word counts, verb counts, or topics to feed into a model rather than simply giving it the raw text.\n",
    "\n",
    "Example of feature engineering are: \n",
    "\n",
    "- **Transformations**, such a log, square, and square root.\n",
    "- **Dummy (binary) variables**, also known as *indicator variables*, often done by taking categorical variables\n",
    "(such as city) which do not have a numerical value, and adding them to models as a binary value.\n",
    "- **Discretization**. Several methods require features to be discrete instead of continuous. This is often done \n",
    "by binning, which you can do by equal width. \n",
    "- **Aggregation.** Aggregate features often constitute the majority of features for a given problem. These use \n",
    "different aggregation functions (*count, min, max, average, standard deviation, etc.*) which summarize several\n",
    "values into one feature, aggregating over varying windows of time and space. For example, given urban data, \n",
    "we would want to calculate the *number* (and *min, max, mean, variance*, etc.) of crimes within an *m*-mile radius\n",
    "of an address in the past *t* months for varying values of *m* and *t*, and then use all of them as features.\n",
    "\n"
   ]
  },
  {
   "cell_type": "code",
   "execution_count": 60,
   "metadata": {
    "collapsed": true
   },
   "outputs": [],
   "source": [
    "def create_date_features(prm_inspections: pd.DataFrame):\n",
    "    \n",
    "    feat_date_features = prm_inspections[['inspection_id', 'inspection_date']].copy()\n",
    "    feat_date_features['year'] = feat_date_features.inspection_date.dt.year\n",
    "    feat_date_features['month'] = feat_date_features.inspection_date.dt.month\n",
    "    \n",
    "    return feat_date_features"
   ]
  },
  {
   "cell_type": "code",
   "execution_count": 61,
   "metadata": {},
   "outputs": [
    {
     "data": {
      "text/html": [
       "<div>\n",
       "<style scoped>\n",
       "    .dataframe tbody tr th:only-of-type {\n",
       "        vertical-align: middle;\n",
       "    }\n",
       "\n",
       "    .dataframe tbody tr th {\n",
       "        vertical-align: top;\n",
       "    }\n",
       "\n",
       "    .dataframe thead th {\n",
       "        text-align: right;\n",
       "    }\n",
       "</style>\n",
       "<table border=\"1\" class=\"dataframe\">\n",
       "  <thead>\n",
       "    <tr style=\"text-align: right;\">\n",
       "      <th></th>\n",
       "      <th>inspection_id</th>\n",
       "      <th>inspection_date</th>\n",
       "      <th>year</th>\n",
       "      <th>month</th>\n",
       "    </tr>\n",
       "  </thead>\n",
       "  <tbody>\n",
       "    <tr>\n",
       "      <th>0</th>\n",
       "      <td>2293491</td>\n",
       "      <td>2019-06-13</td>\n",
       "      <td>2019</td>\n",
       "      <td>6</td>\n",
       "    </tr>\n",
       "    <tr>\n",
       "      <th>1</th>\n",
       "      <td>2293490</td>\n",
       "      <td>2019-06-13</td>\n",
       "      <td>2019</td>\n",
       "      <td>6</td>\n",
       "    </tr>\n",
       "    <tr>\n",
       "      <th>2</th>\n",
       "      <td>2293539</td>\n",
       "      <td>2019-06-13</td>\n",
       "      <td>2019</td>\n",
       "      <td>6</td>\n",
       "    </tr>\n",
       "    <tr>\n",
       "      <th>3</th>\n",
       "      <td>2293475</td>\n",
       "      <td>2019-06-13</td>\n",
       "      <td>2019</td>\n",
       "      <td>6</td>\n",
       "    </tr>\n",
       "    <tr>\n",
       "      <th>4</th>\n",
       "      <td>2293520</td>\n",
       "      <td>2019-06-13</td>\n",
       "      <td>2019</td>\n",
       "      <td>6</td>\n",
       "    </tr>\n",
       "  </tbody>\n",
       "</table>\n",
       "</div>"
      ],
      "text/plain": [
       "  inspection_id inspection_date  year  month\n",
       "0       2293491      2019-06-13  2019      6\n",
       "1       2293490      2019-06-13  2019      6\n",
       "2       2293539      2019-06-13  2019      6\n",
       "3       2293475      2019-06-13  2019      6\n",
       "4       2293520      2019-06-13  2019      6"
      ]
     },
     "execution_count": 61,
     "metadata": {},
     "output_type": "execute_result"
    }
   ],
   "source": [
    "feat_date_features = create_date_features(prm_inspections=prm_inspections)\n",
    "feat_date_features.head()"
   ]
  },
  {
   "cell_type": "code",
   "execution_count": 132,
   "metadata": {
    "collapsed": true
   },
   "outputs": [],
   "source": [
    "def create_chain_features(prm_inspections: pd.DataFrame):\n",
    "    \n",
    "    feat_chain_features = prm_inspections[['inspection_id', 'dba_name', 'nickname']].copy()\n",
    "    \n",
    "    # clean dba name to get chain\n",
    "    feat_chain_features['chain_name'] = feat_chain_features.dba_name.str.lower()\n",
    "    feat_chain_features['chain_name'] = feat_chain_features.chain_name.str.replace(\"'\", '')\n",
    "    feat_chain_features['chain_name'] = (feat_chain_features\n",
    "                                         .chain_name\n",
    "                                         .str.replace(\"mcdonalds restaurant\", \"mcdonalds\")\n",
    "                                         .str.replace(\"mc donalds\", \"mcdonalds\")\n",
    "                                         .str.replace(\"subway sandwiches\", \"subway\")\n",
    "                                         .str.replace(\"kentucky fried chicken\", \"kfc\")\n",
    "                                         .str.replace(\"dunkin donuts/baskin robbins\", \"dunkin donuts\")\n",
    "                                         .str.replace(\"popeyes chicken\", \"popeyes\")\n",
    "                                        .str.replace(\"potbelly sandwich works llc\", \"potbelly sandwich works\"))\n",
    "    feat_chain_features['chain_name'] = feat_chain_features.chain_name.str.replace(' ', '_')\n",
    "    feat_chain_features.drop(columns = 'dba_name', inplace = True)\n",
    "\n",
    "    # identify chains more frequent than 0.1% of the data\n",
    "    frequent_chains = feat_chain_features.chain_name.value_counts()/len(feat_chain_features)\n",
    "    frequent_chains = frequent_chains[frequent_chains>0.001]\n",
    "    \n",
    "    # make dummies for the frequent chains\n",
    "    mask = feat_chain_features.chain_name.isin(list(frequent_chains.index))\n",
    "    dummy_features = pd.get_dummies(feat_chain_features.chain_name[mask])\n",
    "    \n",
    "    # add dummies to feat data set\n",
    "    feat_chain_features = pd.merge(left = feat_chain_features,\n",
    "                                  right = dummy_features,\n",
    "                                  right_index = True,\n",
    "                                  left_index = True,\n",
    "                                  how = 'left')\n",
    "    \n",
    "    # For those that are none of the frequent ones, add 0 values\n",
    "    feat_chain_features = feat_chain_features.fillna(0)\n",
    "    \n",
    "    return feat_chain_features"
   ]
  },
  {
   "cell_type": "code",
   "execution_count": 133,
   "metadata": {},
   "outputs": [],
   "source": [
    "feat_chain_features = create_chain_features(prm_inspections=prm_inspections)"
   ]
  },
  {
   "cell_type": "code",
   "execution_count": 134,
   "metadata": {},
   "outputs": [
    {
     "data": {
      "text/html": [
       "<div>\n",
       "<style scoped>\n",
       "    .dataframe tbody tr th:only-of-type {\n",
       "        vertical-align: middle;\n",
       "    }\n",
       "\n",
       "    .dataframe tbody tr th {\n",
       "        vertical-align: top;\n",
       "    }\n",
       "\n",
       "    .dataframe thead th {\n",
       "        text-align: right;\n",
       "    }\n",
       "</style>\n",
       "<table border=\"1\" class=\"dataframe\">\n",
       "  <thead>\n",
       "    <tr style=\"text-align: right;\">\n",
       "      <th></th>\n",
       "      <th>inspection_id</th>\n",
       "      <th>nickname</th>\n",
       "      <th>chain_name</th>\n",
       "      <th>7-eleven</th>\n",
       "      <th>au_bon_pain</th>\n",
       "      <th>chipotle_mexican_grill</th>\n",
       "      <th>corner_bakery_cafe</th>\n",
       "      <th>dominos_pizza</th>\n",
       "      <th>dunkin_donuts</th>\n",
       "      <th>freshii</th>\n",
       "      <th>jimmy_johns</th>\n",
       "      <th>kfc</th>\n",
       "      <th>mcdonalds</th>\n",
       "      <th>popeyes</th>\n",
       "      <th>potbelly_sandwich_works</th>\n",
       "      <th>subway</th>\n",
       "      <th>whole_foods_market</th>\n",
       "    </tr>\n",
       "  </thead>\n",
       "  <tbody>\n",
       "    <tr>\n",
       "      <th>0</th>\n",
       "      <td>2293491</td>\n",
       "      <td>HAPPY CAMPER</td>\n",
       "      <td>happy_camper</td>\n",
       "      <td>0.0</td>\n",
       "      <td>0.0</td>\n",
       "      <td>0.0</td>\n",
       "      <td>0.0</td>\n",
       "      <td>0.0</td>\n",
       "      <td>0.0</td>\n",
       "      <td>0.0</td>\n",
       "      <td>0.0</td>\n",
       "      <td>0.0</td>\n",
       "      <td>0.0</td>\n",
       "      <td>0.0</td>\n",
       "      <td>0.0</td>\n",
       "      <td>0.0</td>\n",
       "      <td>0.0</td>\n",
       "    </tr>\n",
       "    <tr>\n",
       "      <th>1</th>\n",
       "      <td>2293490</td>\n",
       "      <td>HAPPY CAMPER</td>\n",
       "      <td>happy_camper</td>\n",
       "      <td>0.0</td>\n",
       "      <td>0.0</td>\n",
       "      <td>0.0</td>\n",
       "      <td>0.0</td>\n",
       "      <td>0.0</td>\n",
       "      <td>0.0</td>\n",
       "      <td>0.0</td>\n",
       "      <td>0.0</td>\n",
       "      <td>0.0</td>\n",
       "      <td>0.0</td>\n",
       "      <td>0.0</td>\n",
       "      <td>0.0</td>\n",
       "      <td>0.0</td>\n",
       "      <td>0.0</td>\n",
       "    </tr>\n",
       "    <tr>\n",
       "      <th>2</th>\n",
       "      <td>2293539</td>\n",
       "      <td>NY KIDS CLUB</td>\n",
       "      <td>ny_kids_club</td>\n",
       "      <td>0.0</td>\n",
       "      <td>0.0</td>\n",
       "      <td>0.0</td>\n",
       "      <td>0.0</td>\n",
       "      <td>0.0</td>\n",
       "      <td>0.0</td>\n",
       "      <td>0.0</td>\n",
       "      <td>0.0</td>\n",
       "      <td>0.0</td>\n",
       "      <td>0.0</td>\n",
       "      <td>0.0</td>\n",
       "      <td>0.0</td>\n",
       "      <td>0.0</td>\n",
       "      <td>0.0</td>\n",
       "    </tr>\n",
       "    <tr>\n",
       "      <th>3</th>\n",
       "      <td>2293475</td>\n",
       "      <td>HAPPY CAMPER</td>\n",
       "      <td>happy_camper</td>\n",
       "      <td>0.0</td>\n",
       "      <td>0.0</td>\n",
       "      <td>0.0</td>\n",
       "      <td>0.0</td>\n",
       "      <td>0.0</td>\n",
       "      <td>0.0</td>\n",
       "      <td>0.0</td>\n",
       "      <td>0.0</td>\n",
       "      <td>0.0</td>\n",
       "      <td>0.0</td>\n",
       "      <td>0.0</td>\n",
       "      <td>0.0</td>\n",
       "      <td>0.0</td>\n",
       "      <td>0.0</td>\n",
       "    </tr>\n",
       "    <tr>\n",
       "      <th>4</th>\n",
       "      <td>2293520</td>\n",
       "      <td>SUNNYSIDE CENTER</td>\n",
       "      <td>sunnyside_center</td>\n",
       "      <td>0.0</td>\n",
       "      <td>0.0</td>\n",
       "      <td>0.0</td>\n",
       "      <td>0.0</td>\n",
       "      <td>0.0</td>\n",
       "      <td>0.0</td>\n",
       "      <td>0.0</td>\n",
       "      <td>0.0</td>\n",
       "      <td>0.0</td>\n",
       "      <td>0.0</td>\n",
       "      <td>0.0</td>\n",
       "      <td>0.0</td>\n",
       "      <td>0.0</td>\n",
       "      <td>0.0</td>\n",
       "    </tr>\n",
       "  </tbody>\n",
       "</table>\n",
       "</div>"
      ],
      "text/plain": [
       "  inspection_id          nickname        chain_name  7-eleven  au_bon_pain  \\\n",
       "0       2293491      HAPPY CAMPER      happy_camper       0.0          0.0   \n",
       "1       2293490      HAPPY CAMPER      happy_camper       0.0          0.0   \n",
       "2       2293539      NY KIDS CLUB      ny_kids_club       0.0          0.0   \n",
       "3       2293475      HAPPY CAMPER      happy_camper       0.0          0.0   \n",
       "4       2293520  SUNNYSIDE CENTER  sunnyside_center       0.0          0.0   \n",
       "\n",
       "   chipotle_mexican_grill  corner_bakery_cafe  dominos_pizza  dunkin_donuts  \\\n",
       "0                     0.0                 0.0            0.0            0.0   \n",
       "1                     0.0                 0.0            0.0            0.0   \n",
       "2                     0.0                 0.0            0.0            0.0   \n",
       "3                     0.0                 0.0            0.0            0.0   \n",
       "4                     0.0                 0.0            0.0            0.0   \n",
       "\n",
       "   freshii  jimmy_johns  kfc  mcdonalds  popeyes  potbelly_sandwich_works  \\\n",
       "0      0.0          0.0  0.0        0.0      0.0                      0.0   \n",
       "1      0.0          0.0  0.0        0.0      0.0                      0.0   \n",
       "2      0.0          0.0  0.0        0.0      0.0                      0.0   \n",
       "3      0.0          0.0  0.0        0.0      0.0                      0.0   \n",
       "4      0.0          0.0  0.0        0.0      0.0                      0.0   \n",
       "\n",
       "   subway  whole_foods_market  \n",
       "0     0.0                 0.0  \n",
       "1     0.0                 0.0  \n",
       "2     0.0                 0.0  \n",
       "3     0.0                 0.0  \n",
       "4     0.0                 0.0  "
      ]
     },
     "execution_count": 134,
     "metadata": {},
     "output_type": "execute_result"
    }
   ],
   "source": [
    "feat_chain_features.head()"
   ]
  },
  {
   "cell_type": "code",
   "execution_count": 221,
   "metadata": {
    "collapsed": true
   },
   "outputs": [],
   "source": [
    "def create_location_features(prm_inspections: pd.DataFrame):\n",
    "    \n",
    "    feat_location_features = prm_inspections[['inspection_id', 'latitude', 'longitude']]\n",
    "    feat_location_features = feat_location_features.fillna(feat_location_features.mean())\n",
    "    \n",
    "    return feat_location_features"
   ]
  },
  {
   "cell_type": "code",
   "execution_count": 223,
   "metadata": {},
   "outputs": [],
   "source": [
    "feat_location_features = create_location_features(prm_inspections=prm_inspections)"
   ]
  },
  {
   "cell_type": "code",
   "execution_count": 225,
   "metadata": {
    "collapsed": true
   },
   "outputs": [],
   "source": [
    "def create_master_table(feat_chain_features: pd.DataFrame,\n",
    "                       feat_date_features: pd.DataFrame,\n",
    "                       feat_target_variable: pd.DataFrame,\n",
    "                       feat_location_features: pd.DataFrame):\n",
    "    \n",
    "    mst_master_table = pd.merge(left = feat_date_features,\n",
    "                               right = feat_chain_features,\n",
    "                               on = 'inspection_id',\n",
    "                               how = 'inner')\n",
    "    \n",
    "    mst_master_table = pd.merge(left = mst_master_table,\n",
    "                           right = feat_location_features,\n",
    "                           on = 'inspection_id',\n",
    "                           how = 'left')\n",
    "\n",
    "    mst_master_table = pd.merge(left = mst_master_table,\n",
    "                           right = feat_target_variable,\n",
    "                           on = 'inspection_id',\n",
    "                           how = 'left')\n",
    "    \n",
    "    return mst_master_table    "
   ]
  },
  {
   "cell_type": "code",
   "execution_count": 227,
   "metadata": {},
   "outputs": [],
   "source": [
    "mst_master_table = create_master_table(feat_chain_features=feat_chain_features,\n",
    "                                       feat_date_features=feat_date_features,\n",
    "                                      feat_target_variable=feat_target_variable,\n",
    "                                      feat_location_features=feat_location_features)"
   ]
  },
  {
   "cell_type": "code",
   "execution_count": 228,
   "metadata": {},
   "outputs": [
    {
     "data": {
      "text/plain": [
       "167573"
      ]
     },
     "execution_count": 228,
     "metadata": {},
     "output_type": "execute_result"
    }
   ],
   "source": [
    "len(mst_master_table)"
   ]
  },
  {
   "cell_type": "markdown",
   "metadata": {},
   "source": [
    "## Modelling Preparation\n",
    "*[Go back to Table of Contents](#table-of-contents)*\n",
    "\n",
    "Before diving into the modelling, it's important to set up in such a way that we can estimate model performance.\n",
    "We're going to need a way to know whether or not it's working. Convincing others of the quality of results is often the *most challenging* part of an analysis.  Making repeatable, well-documented work with clear success metrics makes all the difference.\n",
    "\n",
    "To convince ourselves - and others - that our modeling results will generalize, we need to hold\n",
    "some data back (not using it to train the model), then apply our model to that hold-out set and \"blindly\" predict, comparing the model's predictions to what we actually observed. \n",
    "This is called **train-test split**, and it's the best way we have to estimate how a model will perform on *entirely* novel data. We call the data used to build the model the **training set**, and the rest the **test set**.\n",
    "\n",
    "In general, we'd like our training set to be as large as possible, to give our model more information. However, you also want to be as confident as possible that your model will be applicable to new data, or else the model is useless. In practice, you'll have to balance these two objectives in a reasonable way.  \n",
    "\n",
    "There are also many ways to split up your data into training and testing sets. \n",
    "Since you're trying to evaluate how your model will perform *in practice*, it's best to emulate the use case of your model as closely as possible when you decide how to evaluate it. \n",
    "\n",
    "One simple and commonly used method is ***k-fold* cross-validation**, which entails splitting up our dataset into *k* groups, holding out one group while training a model on the rest of the data, evaluating model performance on the held-out \"fold,\" and repeating this process *k* times (we'll get back to this in the text-analysis tutorial). \n",
    "A good [tutorial on cross-validation](http://scikit-learn.org/stable/modules/cross_validation.html) can be found on the `scikit-learn` site.\n",
    "\n",
    "Another method is **temporal cross-validation**, which involves building a model using all the data up until a given point in time, and then testing the model on observations that happened after that point. \n",
    "Our problem of recidivism is a problem in time where we are trying to predcit an event in the future. G\n",
    "enerally, if you use the future to predict the past there will be temporal effects that will help the accuracy of your predictions. \n",
    "We cannot use the future to predict the past in real life, so it is important to use `temporal cross-validation` and create our training and test sets accordingly. \n",
    "\n",
    "\n",
    "- **Samples**: Each sample is a realisation of the unit of analysis in the data set. It can be used as one example for learning. Synonyms are \"data point\" or \"observation\""
   ]
  },
  {
   "cell_type": "markdown",
   "metadata": {},
   "source": [
    "### Split into train/test and features/labels"
   ]
  },
  {
   "cell_type": "code",
   "execution_count": 238,
   "metadata": {
    "collapsed": true
   },
   "outputs": [],
   "source": [
    "def split_data(mst_master_table: pd.DataFrame):\n",
    "    \n",
    "    train, test = train_test_split(mst_master_table, test_size=0.2, random_state=42)\n",
    "    \n",
    "    x_cols = ['year', 'month', '7-eleven', 'au_bon_pain', 'chipotle_mexican_grill',\n",
    "       'corner_bakery_cafe', 'dominos_pizza', 'dunkin_donuts', 'freshii',\n",
    "       'jimmy_johns', 'kfc', 'mcdonalds', 'popeyes', 'potbelly_sandwich_works',\n",
    "       'subway', 'whole_foods_market', 'latitude', 'longitude']\n",
    "    y_col = 'pass_flag'\n",
    "    \n",
    "    X_train = train[x_cols]\n",
    "    y_train = train[y_col]\n",
    "    X_test = test[x_cols]\n",
    "    y_test = test[y_col]\n",
    "    \n",
    "    return X_train, y_train, X_test, y_test"
   ]
  },
  {
   "cell_type": "code",
   "execution_count": 260,
   "metadata": {
    "collapsed": true
   },
   "outputs": [],
   "source": [
    "X_train, y_train, X_test, y_test = split_data(mst_master_table=mst_master_table)"
   ]
  },
  {
   "cell_type": "code",
   "execution_count": 241,
   "metadata": {},
   "outputs": [
    {
     "data": {
      "text/plain": [
       "True     72457\n",
       "False    61601\n",
       "Name: pass_flag, dtype: int64"
      ]
     },
     "execution_count": 241,
     "metadata": {},
     "output_type": "execute_result"
    }
   ],
   "source": [
    "y_train.value_counts()"
   ]
  },
  {
   "cell_type": "markdown",
   "metadata": {},
   "source": [
    "# Model Fitting\n",
    "*[Go back to Table of Contents](#table-of-contents)*\n",
    "\n",
    "Python's [`scikit-learn`](http://scikit-learn.org/stable/) is a commonly used, well documented Python library for machine learning. \n",
    "This library can help you split your data into training and test sets, fit models and use them to predict results on new data, and evaluate your results.\n",
    "\n",
    "There is a large number of properties to think about when choosing the model and fitting it.\n",
    "\n",
    "- **Underfitting**: Underfitting occurs when the chosen model is too simple to capture the structure on the data well enough.\n",
    "- **Overfitting**: Overfitting occurs when the model is too complex. In this case, it may become overly sensitive to the noise in the data and replicate phenomena in the training set that are not systematic. Overfitting results in poor generalization performance, i.e. poor applicability of the model to new data.\n",
    "\n",
    "A nice image explaining the issue is available on [sklearn](https://scikit-learn.org/stable/auto_examples/model_selection/plot_underfitting_overfitting.html)\n",
    "\n",
    "One common method to combat overfitting is **Regularization**: Regularization is a technique to avoid overfitting by applying additional constraints to the model. \n",
    "For example, one can limit the number of features present in the final model, or penalise the size of the coefficients used in the model.\n",
    "\n",
    "\n",
    "We will start with the simplest [`LogisticRegression`](http://scikit-learn.org/stable/modules/generated/sklearn.linear_model.LogisticRegression.html) model with an L2 penalty and see how well that does.\n"
   ]
  },
  {
   "cell_type": "code",
   "execution_count": 233,
   "metadata": {},
   "outputs": [
    {
     "name": "stdout",
     "output_type": "stream",
     "text": [
      "LogisticRegression(C=100000.0, class_weight=None, dual=False,\n",
      "                   fit_intercept=True, intercept_scaling=1, l1_ratio=None,\n",
      "                   max_iter=100, multi_class='warn', n_jobs=None, penalty='l2',\n",
      "                   random_state=None, solver='lbfgs', tol=0.0001, verbose=0,\n",
      "                   warm_start=False)\n"
     ]
    }
   ],
   "source": [
    "# Let's fit the model\n",
    "from sklearn import linear_model\n",
    "#model = linear_model.LogisticRegression(penalty='none', solver = 'lbfgs')\n",
    "model = linear_model.LogisticRegression(penalty='l2', C=1e5, solver = 'lbfgs')\n",
    "model.fit(X_train, y_train)\n",
    "print(model)"
   ]
  },
  {
   "cell_type": "code",
   "execution_count": 235,
   "metadata": {},
   "outputs": [
    {
     "data": {
      "text/html": [
       "<div>\n",
       "<style scoped>\n",
       "    .dataframe tbody tr th:only-of-type {\n",
       "        vertical-align: middle;\n",
       "    }\n",
       "\n",
       "    .dataframe tbody tr th {\n",
       "        vertical-align: top;\n",
       "    }\n",
       "\n",
       "    .dataframe thead th {\n",
       "        text-align: right;\n",
       "    }\n",
       "</style>\n",
       "<table border=\"1\" class=\"dataframe\">\n",
       "  <thead>\n",
       "    <tr style=\"text-align: right;\">\n",
       "      <th></th>\n",
       "      <th>coeff</th>\n",
       "      <th>var_name</th>\n",
       "    </tr>\n",
       "  </thead>\n",
       "  <tbody>\n",
       "    <tr>\n",
       "      <th>0</th>\n",
       "      <td>-0.089992</td>\n",
       "      <td>year</td>\n",
       "    </tr>\n",
       "    <tr>\n",
       "      <th>1</th>\n",
       "      <td>-0.021317</td>\n",
       "      <td>month</td>\n",
       "    </tr>\n",
       "    <tr>\n",
       "      <th>2</th>\n",
       "      <td>-0.006198</td>\n",
       "      <td>7-eleven</td>\n",
       "    </tr>\n",
       "    <tr>\n",
       "      <th>3</th>\n",
       "      <td>0.028517</td>\n",
       "      <td>au_bon_pain</td>\n",
       "    </tr>\n",
       "    <tr>\n",
       "      <th>4</th>\n",
       "      <td>0.070381</td>\n",
       "      <td>chipotle_mexican_grill</td>\n",
       "    </tr>\n",
       "    <tr>\n",
       "      <th>5</th>\n",
       "      <td>0.014312</td>\n",
       "      <td>corner_bakery_cafe</td>\n",
       "    </tr>\n",
       "    <tr>\n",
       "      <th>6</th>\n",
       "      <td>-0.004686</td>\n",
       "      <td>dominos_pizza</td>\n",
       "    </tr>\n",
       "    <tr>\n",
       "      <th>7</th>\n",
       "      <td>0.109129</td>\n",
       "      <td>dunkin_donuts</td>\n",
       "    </tr>\n",
       "    <tr>\n",
       "      <th>8</th>\n",
       "      <td>-0.010667</td>\n",
       "      <td>freshii</td>\n",
       "    </tr>\n",
       "    <tr>\n",
       "      <th>9</th>\n",
       "      <td>-0.001770</td>\n",
       "      <td>jimmy_johns</td>\n",
       "    </tr>\n",
       "    <tr>\n",
       "      <th>10</th>\n",
       "      <td>0.007920</td>\n",
       "      <td>kfc</td>\n",
       "    </tr>\n",
       "    <tr>\n",
       "      <th>11</th>\n",
       "      <td>0.181722</td>\n",
       "      <td>mcdonalds</td>\n",
       "    </tr>\n",
       "    <tr>\n",
       "      <th>12</th>\n",
       "      <td>0.015269</td>\n",
       "      <td>popeyes</td>\n",
       "    </tr>\n",
       "    <tr>\n",
       "      <th>13</th>\n",
       "      <td>0.090729</td>\n",
       "      <td>potbelly_sandwich_works</td>\n",
       "    </tr>\n",
       "    <tr>\n",
       "      <th>14</th>\n",
       "      <td>0.209606</td>\n",
       "      <td>subway</td>\n",
       "    </tr>\n",
       "    <tr>\n",
       "      <th>15</th>\n",
       "      <td>0.032047</td>\n",
       "      <td>whole_foods_market</td>\n",
       "    </tr>\n",
       "    <tr>\n",
       "      <th>16</th>\n",
       "      <td>0.701557</td>\n",
       "      <td>latitude</td>\n",
       "    </tr>\n",
       "    <tr>\n",
       "      <th>17</th>\n",
       "      <td>-1.736057</td>\n",
       "      <td>longitude</td>\n",
       "    </tr>\n",
       "  </tbody>\n",
       "</table>\n",
       "</div>"
      ],
      "text/plain": [
       "       coeff                 var_name\n",
       "0  -0.089992                     year\n",
       "1  -0.021317                    month\n",
       "2  -0.006198                 7-eleven\n",
       "3   0.028517              au_bon_pain\n",
       "4   0.070381   chipotle_mexican_grill\n",
       "5   0.014312       corner_bakery_cafe\n",
       "6  -0.004686            dominos_pizza\n",
       "7   0.109129            dunkin_donuts\n",
       "8  -0.010667                  freshii\n",
       "9  -0.001770              jimmy_johns\n",
       "10  0.007920                      kfc\n",
       "11  0.181722                mcdonalds\n",
       "12  0.015269                  popeyes\n",
       "13  0.090729  potbelly_sandwich_works\n",
       "14  0.209606                   subway\n",
       "15  0.032047       whole_foods_market\n",
       "16  0.701557                 latitude\n",
       "17 -1.736057                longitude"
      ]
     },
     "execution_count": 235,
     "metadata": {},
     "output_type": "execute_result"
    }
   ],
   "source": [
    "coeffs = pd.DataFrame({'coeff': model.coef_[0],\n",
    "                       'var_name': x_cols})\n",
    "coeffs"
   ]
  },
  {
   "cell_type": "code",
   "execution_count": 191,
   "metadata": {},
   "outputs": [
    {
     "ename": "ModuleNotFoundError",
     "evalue": "No module named 'statsmodels'",
     "output_type": "error",
     "traceback": [
      "\u001b[0;31m---------------------------------------------------------------------------\u001b[0m",
      "\u001b[0;31mModuleNotFoundError\u001b[0m                       Traceback (most recent call last)",
      "\u001b[0;32m<ipython-input-191-d51d6b9ae096>\u001b[0m in \u001b[0;36m<module>\u001b[0;34m\u001b[0m\n\u001b[0;32m----> 1\u001b[0;31m \u001b[0;32mimport\u001b[0m \u001b[0mstatsmodels\u001b[0m\u001b[0;34m.\u001b[0m\u001b[0mapi\u001b[0m \u001b[0;32mas\u001b[0m \u001b[0msm\u001b[0m\u001b[0;34m\u001b[0m\u001b[0;34m\u001b[0m\u001b[0m\n\u001b[0m\u001b[1;32m      2\u001b[0m \u001b[0mlogit_model\u001b[0m\u001b[0;34m=\u001b[0m\u001b[0msm\u001b[0m\u001b[0;34m.\u001b[0m\u001b[0mLogit\u001b[0m\u001b[0;34m(\u001b[0m\u001b[0my_train\u001b[0m\u001b[0;34m,\u001b[0m\u001b[0mX_train\u001b[0m\u001b[0;34m)\u001b[0m\u001b[0;34m\u001b[0m\u001b[0;34m\u001b[0m\u001b[0m\n\u001b[1;32m      3\u001b[0m \u001b[0mresult\u001b[0m\u001b[0;34m=\u001b[0m\u001b[0mlogit_model\u001b[0m\u001b[0;34m.\u001b[0m\u001b[0mfit\u001b[0m\u001b[0;34m(\u001b[0m\u001b[0;34m)\u001b[0m\u001b[0;34m\u001b[0m\u001b[0;34m\u001b[0m\u001b[0m\n\u001b[1;32m      4\u001b[0m \u001b[0mprint\u001b[0m\u001b[0;34m(\u001b[0m\u001b[0mresult\u001b[0m\u001b[0;34m.\u001b[0m\u001b[0msummary2\u001b[0m\u001b[0;34m(\u001b[0m\u001b[0;34m)\u001b[0m\u001b[0;34m)\u001b[0m\u001b[0;34m\u001b[0m\u001b[0;34m\u001b[0m\u001b[0m\n",
      "\u001b[0;31mModuleNotFoundError\u001b[0m: No module named 'statsmodels'"
     ]
    }
   ],
   "source": [
    "import statsmodels.api as sm\n",
    "logit_model=sm.Logit(y_train,X_train)\n",
    "result=logit_model.fit()\n",
    "print(result.summary2())"
   ]
  },
  {
   "cell_type": "markdown",
   "metadata": {},
   "source": [
    "When we print the model results, we see different parameters we can adjust as we refine the model based on running it against test data (values such as `intercept_scaling`, `max_iters`, `penalty`, and `solver`).  Example output:\n",
    "\n",
    "    LogisticRegression(C=1.0, class_weight=None, dual=False, fit_intercept=True,\n",
    "          intercept_scaling=1, max_iter=100, multi_class='ovr',\n",
    "          penalty='l2', random_state=None, solver='liblinear', tol=0.0001,\n",
    "          verbose=0)\n",
    "\n",
    "To adjust these parameters, one would alter the call that creates the `LogisticRegression()` model instance, passing it one or more of these parameters with a value other than the default.  So, to re-fit the model with `max_iter` of 1000, `intercept_scaling` of 2, and `solver` of \"lbfgs\" (pulled from thin air as an example), you'd create your model as follows:\n",
    "\n",
    "    model = LogisticRegression( max_iter = 1000, intercept_scaling = 2, solver = \"lbfgs\" )\n",
    "\n",
    "The basic way to choose values for, or \"tune,\" these parameters is the same as the way you choose a model: fit the model to your training data with a variety of parameters, and see which perform the best on the test set. An obvious drawback is that you can also *overfit* to your test set; in this case, you can alter your method of cross-validation.\n",
    "\n"
   ]
  },
  {
   "cell_type": "code",
   "execution_count": 247,
   "metadata": {
    "collapsed": true
   },
   "outputs": [],
   "source": [
    "def build_model(X_train: pd.DataFrame,\n",
    "                y_train: pd.DataFrame):\n",
    "    \n",
    "    # modelling \n",
    "    from sklearn import linear_model\n",
    "    model = linear_model.LogisticRegression(penalty='none', solver = 'lbfgs')\n",
    "    #model = linear_model.LogisticRegression(penalty='l2', C=1e5, solver = 'lbfgs')\n",
    "    model.fit(X_train, y_train)\n",
    "\n",
    "    return model\n",
    "    "
   ]
  },
  {
   "cell_type": "code",
   "execution_count": 248,
   "metadata": {
    "collapsed": true
   },
   "outputs": [],
   "source": [
    "model = build_model(X_train=X_train,\n",
    "                    y_train=y_train)"
   ]
  },
  {
   "cell_type": "markdown",
   "metadata": {},
   "source": [
    "## Model Evaluation\n",
    "*[Go back to Table of Contents](#table-of-contents)*\n",
    "\n",
    "In this phase, you take the predictors from your test set and apply your model to them, then assess the quality of the model by comparing the *predicted values* to the *actual values* for each record in your testing data set. \n",
    "\n",
    "- **Performance Estimation**: How well will our model do once it is deployed and applied to new data?\n"
   ]
  },
  {
   "cell_type": "markdown",
   "metadata": {},
   "source": [
    "Machine learning models usually do not produce a prediction (0 or 1) directly. Rather, models produce a score (that can sometimes be interpreted a a probabilty) between 0 and 1, which lets you more finely rank all of the examples from *most likely* to *least likely* to have label 1 (positive). \n",
    "This score is then turned into a 0 or 1 based on a user-specified threshold. \n",
    "For example, you might label all examples that have a score greater than 0.5 (1/2) as positive (1), but there's no reason that has to be the cutoff. "
   ]
  },
  {
   "cell_type": "code",
   "execution_count": 244,
   "metadata": {
    "collapsed": true
   },
   "outputs": [],
   "source": [
    "#  from our \"predictors\" using the model.\n",
    "y_score = model.predict_proba(X_test)[:,1]"
   ]
  },
  {
   "cell_type": "code",
   "execution_count": 245,
   "metadata": {},
   "outputs": [
    {
     "data": {
      "text/plain": [
       "array([0.5466995 , 0.47561948, 0.48976494, ..., 0.5964114 , 0.6347555 ,\n",
       "       0.51502118])"
      ]
     },
     "execution_count": 245,
     "metadata": {},
     "output_type": "execute_result"
    }
   ],
   "source": [
    "y_score"
   ]
  },
  {
   "cell_type": "markdown",
   "metadata": {},
   "source": [
    "Let's take a look at the distribution of scores and see if it makes sense to us. "
   ]
  },
  {
   "cell_type": "code",
   "execution_count": 246,
   "metadata": {},
   "outputs": [
    {
     "data": {
      "text/plain": [
       "<matplotlib.axes._subplots.AxesSubplot at 0x154aaa390>"
      ]
     },
     "execution_count": 246,
     "metadata": {},
     "output_type": "execute_result"
    },
    {
     "data": {
      "image/png": "[encoded data removed]",
      "text/plain": [
       "<Figure size 432x288 with 1 Axes>"
      ]
     },
     "metadata": {
      "needs_background": "light"
     },
     "output_type": "display_data"
    }
   ],
   "source": [
    "sns.distplot(y_score, kde=False, rug=False)"
   ]
  },
  {
   "cell_type": "code",
   "execution_count": 271,
   "metadata": {
    "collapsed": true
   },
   "outputs": [],
   "source": [
    "def create_model_predictions(model,\n",
    "                            X_test: pd.DataFrame,\n",
    "                            y_test: pd.DataFrame):\n",
    "    \n",
    "    out_model_predictions = y_test.to_frame(name='pass_flag')\n",
    "    out_model_predictions['y_predicted_prob'] = model.predict_proba(X_test)[:,1]\n",
    "    out_model_predictions['y_predicted_flag'] = out_model_predictions['y_predicted_prob'] > 0.5\n",
    "    \n",
    "    return out_model_predictions    "
   ]
  },
  {
   "cell_type": "code",
   "execution_count": 272,
   "metadata": {},
   "outputs": [],
   "source": [
    "out_model_predictions = create_model_predictions(model=model,\n",
    "                                                 X_test=X_test,\n",
    "                                                 y_test=y_test)"
   ]
  },
  {
   "cell_type": "code",
   "execution_count": 273,
   "metadata": {},
   "outputs": [
    {
     "data": {
      "text/html": [
       "<div>\n",
       "<style scoped>\n",
       "    .dataframe tbody tr th:only-of-type {\n",
       "        vertical-align: middle;\n",
       "    }\n",
       "\n",
       "    .dataframe tbody tr th {\n",
       "        vertical-align: top;\n",
       "    }\n",
       "\n",
       "    .dataframe thead th {\n",
       "        text-align: right;\n",
       "    }\n",
       "</style>\n",
       "<table border=\"1\" class=\"dataframe\">\n",
       "  <thead>\n",
       "    <tr style=\"text-align: right;\">\n",
       "      <th></th>\n",
       "      <th>pass_flag</th>\n",
       "      <th>y_predicted_prob</th>\n",
       "      <th>y_predicted_flag</th>\n",
       "    </tr>\n",
       "  </thead>\n",
       "  <tbody>\n",
       "    <tr>\n",
       "      <th>108757</th>\n",
       "      <td>True</td>\n",
       "      <td>0.546699</td>\n",
       "      <td>True</td>\n",
       "    </tr>\n",
       "    <tr>\n",
       "      <th>6540</th>\n",
       "      <td>False</td>\n",
       "      <td>0.475619</td>\n",
       "      <td>False</td>\n",
       "    </tr>\n",
       "    <tr>\n",
       "      <th>57098</th>\n",
       "      <td>False</td>\n",
       "      <td>0.489765</td>\n",
       "      <td>False</td>\n",
       "    </tr>\n",
       "    <tr>\n",
       "      <th>4255</th>\n",
       "      <td>False</td>\n",
       "      <td>0.447071</td>\n",
       "      <td>False</td>\n",
       "    </tr>\n",
       "    <tr>\n",
       "      <th>127931</th>\n",
       "      <td>True</td>\n",
       "      <td>0.573444</td>\n",
       "      <td>True</td>\n",
       "    </tr>\n",
       "  </tbody>\n",
       "</table>\n",
       "</div>"
      ],
      "text/plain": [
       "        pass_flag  y_predicted_prob  y_predicted_flag\n",
       "108757       True          0.546699              True\n",
       "6540        False          0.475619             False\n",
       "57098       False          0.489765             False\n",
       "4255        False          0.447071             False\n",
       "127931       True          0.573444              True"
      ]
     },
     "execution_count": 273,
     "metadata": {},
     "output_type": "execute_result"
    }
   ],
   "source": [
    "out_model_predictions.head()"
   ]
  },
  {
   "cell_type": "markdown",
   "metadata": {},
   "source": [
    "Tools like `sklearn` often have a default threshold of 0.5, but a good threshold is selected based on the data, model and the specific problem you are solving. As a trial run, we chose the threshold as 0.5. "
   ]
  },
  {
   "cell_type": "markdown",
   "metadata": {},
   "source": [
    "## Confusion Matrix\n",
    "\n",
    "Once we have tuned our scores to 0 or 1 for classification, we create a *confusion matrix*, which  has four cells: true negatives, true positives, false negatives, and false positives. Each data point belongs in one of these cells, because it has both a ground truth and a predicted label. If an example was predicted to be negative and is negative, it's a true negative. If an example was predicted to be positive and is positive, it's a true positive. If an example was predicted to be negative and is positive, it's a false negative. If an example was predicted to be positive and is negative, it's a false negative."
   ]
  },
  {
   "cell_type": "code",
   "execution_count": 274,
   "metadata": {
    "collapsed": true
   },
   "outputs": [],
   "source": [
    "from sklearn.metrics import confusion_matrix\n",
    "conf_matrix = confusion_matrix(y_true = out_model_predictions.pass_flag,\n",
    "                               y_pred = out_model_predictions.y_predicted_flag)"
   ]
  },
  {
   "cell_type": "code",
   "execution_count": 275,
   "metadata": {},
   "outputs": [
    {
     "data": {
      "text/plain": [
       "array([[ 5063, 10186],\n",
       "       [ 4183, 14083]])"
      ]
     },
     "execution_count": 275,
     "metadata": {},
     "output_type": "execute_result"
    }
   ],
   "source": [
    "conf_matrix"
   ]
  },
  {
   "cell_type": "markdown",
   "metadata": {},
   "source": [
    "The count of true negatives is `conf_matrix[0,0]`, false negatives `conf_matrix[1,0]`, true positives `conf_matrix[1,1]`, and false_positives `conf_matrix[0,1]`."
   ]
  },
  {
   "cell_type": "markdown",
   "metadata": {},
   "source": [
    "Accuracy is the ratio of the correct predictions (both positive and negative) to all predictions. \n",
    "$$ Accuracy = \\frac{TP+TN}{TP+TN+FP+FN} $$"
   ]
  },
  {
   "cell_type": "code",
   "execution_count": 276,
   "metadata": {},
   "outputs": [
    {
     "name": "stdout",
     "output_type": "stream",
     "text": [
      "Accuracy = 0.5712665970460987\n"
     ]
    }
   ],
   "source": [
    "# generate an accuracy score by comparing expected to predicted.\n",
    "from sklearn.metrics import accuracy_score\n",
    "accuracy = accuracy_score(y_true = out_model_predictions.pass_flag,\n",
    "                          y_pred = out_model_predictions.y_predicted_flag)\n",
    "print( \"Accuracy = \" + str( accuracy ) )"
   ]
  },
  {
   "cell_type": "markdown",
   "metadata": {},
   "source": [
    "Two additional metrics that are often used are **precision** and **recall**. \n",
    "\n",
    "Precision measures the accuracy of the classifier when it predicts an example to be positive. It is the ratio of correctly predicted positive examples to examples predicted to be positive. \n",
    "\n",
    "$$ Precision = \\frac{TP}{TP+FN}$$\n",
    "\n",
    "Recall measures the accuracy of the classifier to find positive examples in the data. \n",
    "\n",
    "$$ Recall = \\frac{TP}{TP+FN} $$\n",
    "\n",
    "By selecting different thresholds we can vary and tune the precision and recall of a given classifier. A conservative classifier (threshold 0.99) will classify a case as 1 only when it is *very sure*, leading to high precision. On the other end of the spectrum, a low threshold (e.g. 0.01) will lead to higher recall. "
   ]
  },
  {
   "cell_type": "code",
   "execution_count": 277,
   "metadata": {},
   "outputs": [
    {
     "name": "stdout",
     "output_type": "stream",
     "text": [
      "Precision = 0.5802876097078578\n",
      "Recall= 0.7709952917989707\n"
     ]
    }
   ],
   "source": [
    "from sklearn.metrics import precision_score, recall_score\n",
    "precision = precision_score(y_true = out_model_predictions.pass_flag,\n",
    "                            y_pred = out_model_predictions.y_predicted_flag)\n",
    "recall = recall_score(y_true = out_model_predictions.pass_flag,\n",
    "                      y_pred = out_model_predictions.y_predicted_flag)\n",
    "print( \"Precision = \" + str( precision ) )\n",
    "print( \"Recall= \" + str(recall))"
   ]
  },
  {
   "cell_type": "markdown",
   "metadata": {},
   "source": [
    "If we care about our whole precision-recall space, we can optimize for a metric known as the **area under the curve (AUC-PR)**, which is the area under the precision-recall curve. The maximum AUC-PR is 1. "
   ]
  },
  {
   "cell_type": "code",
   "execution_count": 183,
   "metadata": {
    "collapsed": true
   },
   "outputs": [],
   "source": [
    "def plot_precision_recall(y_true,y_score):\n",
    "    \"\"\"\n",
    "    Plot a precision recall curve\n",
    "    \n",
    "    Parameters\n",
    "    ----------\n",
    "    y_true: ls\n",
    "        ground truth labels\n",
    "    y_score: ls\n",
    "        score output from model\n",
    "    \"\"\"\n",
    "    precision_curve, recall_curve, pr_thresholds = precision_recall_curve(y_true,y_score)\n",
    "    plt.plot(recall_curve, precision_curve)\n",
    "    plt.xlabel('Recall')\n",
    "    plt.ylabel('Precision')\n",
    "    auc_val = auc(recall_curve,precision_curve)\n",
    "    print('AUC-PR: {0:1f}'.format(auc_val))\n",
    "    plt.show()\n",
    "    plt.clf()"
   ]
  },
  {
   "cell_type": "code",
   "execution_count": 278,
   "metadata": {},
   "outputs": [
    {
     "name": "stdout",
     "output_type": "stream",
     "text": [
      "AUC-PR: 0.598040\n"
     ]
    },
    {
     "data": {
      "image/png": "[encoded data removed]",
      "text/plain": [
       "<Figure size 432x288 with 1 Axes>"
      ]
     },
     "metadata": {
      "needs_background": "light"
     },
     "output_type": "display_data"
    },
    {
     "data": {
      "text/plain": [
       "<Figure size 432x288 with 0 Axes>"
      ]
     },
     "metadata": {},
     "output_type": "display_data"
    }
   ],
   "source": [
    "plot_precision_recall(y_true = out_model_predictions.pass_flag,\n",
    "                      y_score = out_model_predictions.y_predicted_prob)"
   ]
  },
  {
   "cell_type": "markdown",
   "metadata": {},
   "source": [
    "## Precision and Recall at k%\n",
    "\n",
    "If we only care about a specific part of the precision-recall curve we can focus on more fine-grained metrics. "
   ]
  },
  {
   "cell_type": "code",
   "execution_count": 185,
   "metadata": {
    "collapsed": true
   },
   "outputs": [],
   "source": [
    "def plot_precision_recall_n(y_true, y_prob, model_name):\n",
    "    \"\"\"\n",
    "    y_true: ls\n",
    "        ls of ground truth labels\n",
    "    y_prob: ls\n",
    "        ls of predic proba from model\n",
    "    model_name: str\n",
    "        str of model name (e.g, LR_123)\n",
    "    \"\"\"\n",
    "    from sklearn.metrics import precision_recall_curve\n",
    "    y_score = y_prob\n",
    "    precision_curve, recall_curve, pr_thresholds = precision_recall_curve(y_true, y_score)\n",
    "    precision_curve = precision_curve[:-1]\n",
    "    recall_curve = recall_curve[:-1]\n",
    "    pct_above_per_thresh = []\n",
    "    number_scored = len(y_score)\n",
    "    for value in pr_thresholds:\n",
    "        num_above_thresh = len(y_score[y_score>=value])\n",
    "        pct_above_thresh = num_above_thresh / float(number_scored)\n",
    "        pct_above_per_thresh.append(pct_above_thresh)\n",
    "    pct_above_per_thresh = np.array(pct_above_per_thresh)\n",
    "    plt.clf()\n",
    "    fig, ax1 = plt.subplots()\n",
    "    ax1.plot(pct_above_per_thresh, precision_curve, 'b')\n",
    "    ax1.set_xlabel('percent of population')\n",
    "    ax1.set_ylabel('precision', color='b')\n",
    "    ax1.set_ylim(0,1.05)\n",
    "    ax2 = ax1.twinx()\n",
    "    ax2.plot(pct_above_per_thresh, recall_curve, 'r')\n",
    "    ax2.set_ylabel('recall', color='r')\n",
    "    ax2.set_ylim(0,1.05)\n",
    "    \n",
    "    name = model_name\n",
    "    plt.title(name)\n",
    "    plt.show()\n",
    "    plt.clf()"
   ]
  },
  {
   "cell_type": "code",
   "execution_count": 186,
   "metadata": {
    "collapsed": true
   },
   "outputs": [],
   "source": [
    "def precision_at_k(y_true, y_scores,k):\n",
    "    \n",
    "    threshold = np.sort(y_scores)[::-1][int(k*len(y_scores))]\n",
    "    y_pred = np.asarray([1 if i >= threshold else 0 for i in y_scores ])\n",
    "    return precision_score(y_true, y_pred)"
   ]
  },
  {
   "cell_type": "code",
   "execution_count": 187,
   "metadata": {},
   "outputs": [
    {
     "data": {
      "text/plain": [
       "<Figure size 432x288 with 0 Axes>"
      ]
     },
     "metadata": {},
     "output_type": "display_data"
    },
    {
     "data": {
      "image/png": "[encoded data removed]",
      "text/plain": [
       "<Figure size 432x288 with 2 Axes>"
      ]
     },
     "metadata": {
      "needs_background": "light"
     },
     "output_type": "display_data"
    },
    {
     "data": {
      "text/plain": [
       "<Figure size 432x288 with 0 Axes>"
      ]
     },
     "metadata": {},
     "output_type": "display_data"
    }
   ],
   "source": [
    "plot_precision_recall_n(expected,y_score, 'LR')"
   ]
  },
  {
   "cell_type": "code",
   "execution_count": 188,
   "metadata": {},
   "outputs": [
    {
     "name": "stdout",
     "output_type": "stream",
     "text": [
      "Precision at 5%: 0.53\n"
     ]
    }
   ],
   "source": [
    "p_at_5 = precision_at_k(expected,y_score, 0.05)\n",
    "print('Precision at 5%: {:.2f}'.format(p_at_5))"
   ]
  },
  {
   "cell_type": "markdown",
   "metadata": {},
   "source": [
    "## Machine Learning Pipeline\n",
    "*[Go back to Table of Contents](#table-of-contents)*\n",
    "\n",
    "When working on machine learning projects, it is a good idea to structure your code as a modular **pipeline**, which contains all of the steps of your analysis, from the original data source to the results that you report, along with documentation. This has many advantages:\n",
    "- **Reproducibility**. It's important that your work be reproducible. This means that someone else should be able\n",
    "to see what you did, follow the exact same process, and come up with the exact same results. It also means that\n",
    "someone else can follow the steps you took and see what decisions you made, whether that person is a collaborator, \n",
    "a reviewer for a journal, or the agency you are working with. \n",
    "- **Ease of model evaluation and comparison**.\n",
    "- **Ability to make changes.** If you receive new data and want to go through the process again, or if there are \n",
    "updates to the data you used, you can easily substitute new data and reproduce the process without starting from scratch."
   ]
  },
  {
   "cell_type": "code",
   "execution_count": null,
   "metadata": {
    "collapsed": true
   },
   "outputs": [],
   "source": [
    "# build intermediate layer\n",
    "int_inspections = create_int_inspections(raw_inspections=raw_inspections)\n",
    "# build primary layer\n",
    "prm_inspections = create_prm_inspections(int_inspections=int_inspections)\n",
    "# build feature layer\n",
    "feat_target_variable = create_target_variable(prm_inspections=prm_inspections)\n",
    "feat_date_features = create_date_features(prm_inspections=prm_inspections)\n",
    "feat_chain_features = create_chain_features(prm_inspections=prm_inspections)\n",
    "feat_location_features = create_location_features(prm_inspections=prm_inspections)\n",
    "# build master table\n",
    "mst_master_table = create_master_table(feat_chain_features=feat_chain_features,\n",
    "                                       feat_date_features=feat_date_features,\n",
    "                                       feat_location_features=feat_location_features,\n",
    "                                      feat_target_variable=feat_target_variable)\n",
    "X_train, y_train, X_test, y_test = split_data(mst_master_table=mst_master_table)\n",
    "# build model\n",
    "model = build_model(X_train=X_train,\n",
    "                    y_train=y_train)\n",
    "# evaluate model\n",
    "out_model_predictions = create_model_predictions(model=model,\n",
    "                                                 X_test=X_test,\n",
    "                                                 y_test=y_test)\n",
    "# TODO: Write the model evaluation function\n"
   ]
  },
  {
   "cell_type": "markdown",
   "metadata": {},
   "source": [
    "# Exercise 2\n",
    "*[Go back to Table of Contents](#table-of-contents)*\n",
    "\n",
    "We have only scratched the surface of what we can do with our model. We've only tried one classifier (Logistic Regression), and there are plenty more classification algorithms in `sklearn`. Let's try them! \n"
   ]
  },
  {
   "cell_type": "code",
   "execution_count": null,
   "metadata": {
    "collapsed": true
   },
   "outputs": [],
   "source": [
    "clfs = {'RF': RandomForestClassifier(n_estimators=50, n_jobs=-1),\n",
    "       'ET': ExtraTreesClassifier(n_estimators=10, n_jobs=-1, criterion='entropy'),\n",
    "        'LR': LogisticRegression(penalty='l1', C=1e5),\n",
    "        'SGD':SGDClassifier(loss='log'),\n",
    "        'GB': GradientBoostingClassifier(learning_rate=0.05, subsample=0.5, max_depth=6, n_estimators=10),\n",
    "        'NB': GaussianNB()}"
   ]
  },
  {
   "cell_type": "code",
   "execution_count": null,
   "metadata": {
    "collapsed": true
   },
   "outputs": [],
   "source": [
    "sel_clfs = ['RF', 'ET', 'LR', 'SGD', 'GB', 'NB']"
   ]
  },
  {
   "cell_type": "code",
   "execution_count": null,
   "metadata": {
    "collapsed": true
   },
   "outputs": [],
   "source": [
    "max_p_at_k = 0\n",
    "for clfNM in sel_clfs:\n",
    "    clf = clfs[clfNM]\n",
    "    clf.fit( X_train, y_train )\n",
    "    print clf\n",
    "    y_score = clf.predict_proba(X_test)[:,1]\n",
    "    predicted = np.array(y_score)\n",
    "    expected = np.array(y_test)\n",
    "    plot_precision_recall_n(expected,predicted, clfNM)\n",
    "    p_at_5 = precision_at_k(expected,y_score, 0.05)\n",
    "    if max_p_at_k < p_at_5:\n",
    "        max_p_at_k = p_at_5\n",
    "    print('Precision at 5%: {:.2f}'.format(p_at_5))"
   ]
  },
  {
   "cell_type": "markdown",
   "metadata": {},
   "source": [
    "# Baseline \n",
    "\n",
    "It is important to check our model against a reasonable **baseline** to know how well our model is doing. Without any context, 83% accuracy can sound really great... but it's not so great when you remember that you could do almost that well by declaring everyone a non-recividist, which would be stupid (not to mention useless) model. \n",
    "\n",
    "A good place to start is checking against a *random* baseline, assigning every example a label (positive or negative) completely at random. "
   ]
  },
  {
   "cell_type": "code",
   "execution_count": null,
   "metadata": {
    "collapsed": true
   },
   "outputs": [],
   "source": [
    "max_p_at_k"
   ]
  },
  {
   "cell_type": "code",
   "execution_count": null,
   "metadata": {
    "collapsed": true
   },
   "outputs": [],
   "source": [
    "random_score = [random.uniform(0,1) for i in enumerate(y_test)] \n",
    "random_predicted = np.array( [calc_threshold(score,0.5) for score in random_score] )\n",
    "random_p_at_5 = precision_at_k()"
   ]
  },
  {
   "cell_type": "markdown",
   "metadata": {},
   "source": [
    "Another good practice is checking against an \"expert\" or rule of thumb baseline."
   ]
  },
  {
   "cell_type": "code",
   "execution_count": null,
   "metadata": {
    "collapsed": true
   },
   "outputs": [],
   "source": [
    "recidivism_predicted = np.array([ 1 if nadmit > 1 else 0 for nadmit in df_testing.nadmits.values ])\n",
    "recidivism_p_at_5 = precision_at_k(expected,predicted,0.05)"
   ]
  },
  {
   "cell_type": "code",
   "execution_count": null,
   "metadata": {
    "collapsed": true
   },
   "outputs": [],
   "source": [
    "all_non_recidivist = np.array([0 for nadmit in df_testing.nadmits.values])\n",
    "all_non_recidivist_p_at_5 = precision_at_k()"
   ]
  },
  {
   "cell_type": "code",
   "execution_count": null,
   "metadata": {
    "collapsed": true
   },
   "outputs": [],
   "source": [
    "sns.set_style(\"whitegrid\")\n",
    "fig, ax = plt.subplots(1, figsize=(22,12))\n",
    "sns.set_context(\"poster\", font_scale=2.25, rc={\"lines.linewidth\":2.25, \"lines.markersize\":8})\n",
    "sns.barplot([],\n",
    "            [],\n",
    "            palette=['#6F777D','#6F777D','#6F777D','#800000'])\n",
    "plt.ylim(0,1)\n",
    "plt.ylabel('precision at 5%')"
   ]
  },
  {
   "cell_type": "markdown",
   "metadata": {},
   "source": [
    "# Exercise \n",
    "\n",
    "Our model has just scratched the surface. Try the following: \n",
    "    \n",
    "- Create more features\n",
    "- Try more models\n",
    "- Try different parameters for your model"
   ]
  },
  {
   "cell_type": "markdown",
   "metadata": {},
   "source": [
    "## Resources\n",
    "*[Go back to Table of Contents](#table-of-contents)*\n",
    "\n",
    "- Hastie et al.'s [The Elements of Statistical Learning](http://statweb.stanford.edu/~tibs/ElemStatLearn/) is a classic and is available online for free.\n",
    "- James et al.'s [An Introduction to Statistical Learning](http://www-bcf.usc.edu/~gareth/ISL/), also available online, includes less mathematics and is more approachable.\n",
    "- Wu et al.'s [Top 10 Algorithms in Data Mining](http://www.cs.uvm.edu/~icdm/algorithms/10Algorithms-08.pdf)."
   ]
  }
 ],
 "metadata": {
  "anaconda-cloud": {},
  "kernelspec": {
   "display_name": "dssg",
   "language": "python",
   "name": "dssg"
  },
  "language_info": {
   "codemirror_mode": {
    "name": "ipython",
    "version": 3
   },
   "file_extension": ".py",
   "mimetype": "text/x-python",
   "name": "python",
   "nbconvert_exporter": "python",
   "pygments_lexer": "ipython3",
   "version": "3.7.3"
  }
 },
 "nbformat": 4,
 "nbformat_minor": 1
}
